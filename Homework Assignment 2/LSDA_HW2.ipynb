{
 "cells": [
  {
   "cell_type": "markdown",
   "metadata": {},
   "source": [
    "# Homework Assignment 2\n",
    "Return this notebook (filled with your answers) by the deadline via mycourses. Also provide pdf printout of the notebook.\n",
    "\n",
    "Note that the notebook that you submit needs to work. Reduction of points may be possible if it does not.\n",
    "\n",
    "Name: **Xingji Chen** <br>\n",
    "Student number: **101659554**"
   ]
  },
  {
   "cell_type": "code",
   "execution_count": 1,
   "metadata": {
    "tags": []
   },
   "outputs": [],
   "source": [
    "import matplotlib.pyplot as plt\n",
    "import numpy as np\n",
    "import pandas as pd\n",
    "import time\n",
    "from sklearn.metrics import r2_score\n",
    "from tqdm import tqdm\n",
    "\n",
    "# Optional constants\n",
    "MAX_ITER = 100000"
   ]
  },
  {
   "cell_type": "markdown",
   "metadata": {},
   "source": [
    "## Dataset\n",
    "The dataset used in this homework is based on a liver toxicity study (Bushel et al., 2007). The original dataset contains 3116 gene expression values for 63 mice. In addition, 10 clinical measures for liver toxicity are provided. In this homework, we will look at 1 of the 10 measures.\n",
    "\n",
    "Based on a subset of 200 gene expression values, the aim in this homework is to predict the cholesterol level in mice. All features and the target variable have been standardized, meaning no data preparation is necessary.\n",
    "\n",
    "The provided optional file `gene_id.txt` can be used to map the IDs to more descriptive names."
   ]
  },
  {
   "cell_type": "code",
   "execution_count": 2,
   "metadata": {
    "tags": []
   },
   "outputs": [],
   "source": [
    "# load the dataset\n",
    "data_df = pd.read_csv(\"dataset/livertox.csv\")\n",
    "# the target variable is \"Cholesterol.mg.dL\"\n",
    "target_vector = data_df[\"Cholesterol.mg.dL.\"].to_numpy()\n",
    "# the features are the other columns\n",
    "feature_matrix = data_df.drop(\"Cholesterol.mg.dL.\", axis=1)\n",
    "feature_matrix = feature_matrix.to_numpy()\n"
   ]
  },
  {
   "cell_type": "code",
   "execution_count": 3,
   "metadata": {
    "tags": []
   },
   "outputs": [
    {
     "name": "stdout",
     "output_type": "stream",
     "text": [
      "Feature matrix shape: (64, 200)\n",
      "Target vector shape: (64,)\n"
     ]
    }
   ],
   "source": [
    "print(\"Feature matrix shape:\", feature_matrix.shape)\n",
    "print(\"Target vector shape:\", target_vector.shape)"
   ]
  },
  {
   "cell_type": "markdown",
   "metadata": {},
   "source": [
    "## Question 1 (2p): Implement the soft thresholding function\n",
    "\n",
    "Implement a function called `soft_thresholding`. Use basic python/numpy operations. The soft thresholding function is the proximal operator for $\\ell1$ regularization. It is defined as:\n",
    "$$\n",
    "prox_{\\tau\\lVert\\cdot\\rVert_1}(x) = \\text{sign}(x)(\\lvert x \\rvert - \\tau)_{+},\n",
    "$$\n",
    "where $\\tau$ controls the regularization strength. Note that notation for the regularization parameter varies a lot, you might see e.g., $\\lambda$ and $\\alpha$ used in various literature as well."
   ]
  },
  {
   "cell_type": "code",
   "execution_count": 4,
   "metadata": {
    "tags": []
   },
   "outputs": [],
   "source": [
    "def soft_thresholding(x, tau):\n",
    "    # Calculate the absolute value of x\n",
    "    abs_x = np.abs(x)\n",
    "    \n",
    "    # Calculate the positive part of (|x| - tau)\n",
    "    positive_part = np.maximum(abs_x - tau, 0)\n",
    "    \n",
    "    # Apply the sign of x to the result\n",
    "    result = np.sign(x) * positive_part\n",
    "\n",
    "    return result"
   ]
  },
  {
   "cell_type": "code",
   "execution_count": 5,
   "metadata": {
    "tags": []
   },
   "outputs": [],
   "source": [
    "# you can use the following minimal unit-test to check your function\n",
    "test_input = np.array([5, 3, -2, 1, -10, 0])\n",
    "tau = 2\n",
    "output = soft_thresholding(test_input, tau)\n",
    "expected_output = np.array([3, 1, 0, 0, -8, 0])\n",
    "assert np.allclose(output, expected_output), f\"Expected {expected_output}, but got {output}\""
   ]
  },
  {
   "cell_type": "markdown",
   "metadata": {},
   "source": [
    "## Question 2 (15p): Implement Lasso with proximal gradient algorithm (PGA)\n",
    "\n",
    "Implement lasso with PGA as a function `PGALasso`. The exact algorithm can be found on page 33 of Summary Notes. Read also  pages 29-34 of Summary Notes carefully. The regularization parameter can be assumed to be 1. As stopping criterion, use\n",
    "$$\n",
    "\\epsilon_k := \\lVert x_{k-1} - x_{k} \\rVert \\leq 10^{-6},\n",
    "$$\n",
    "where $x_{k}$ are the coefficients of Lasso after $k$ iterations (often also denoted as $\\beta_k$). Store the values of $\\epsilon_k$ for each iteration. For the value of $\\alpha$ (see Summary Notes p. 33), use the following definition:\n",
    "$$\n",
    "\\alpha = \\frac{1}{\\lVert A\\rVert_2^2}.\n",
    "$$\n",
    "\n",
    "\n",
    "**Hint:** It takes $\\sim20,000$ iterations to converge with PGA if the vector of optimization arguments is initialized as a vector of zeros."
   ]
  },
  {
   "cell_type": "code",
   "execution_count": 6,
   "metadata": {
    "tags": []
   },
   "outputs": [],
   "source": [
    "def PGALasso(feature_matrix, target_vector, tau=1, max_iter=MAX_ITER, eps_tol=1e-6):\n",
    "    \"\"\"Linear regression with proximal gradient algorithm and l1 regularization\n",
    "\n",
    "    Args:\n",
    "        feature_matrix (np.array): the feature matrix\n",
    "        target_vector (np.array): the target vector\n",
    "        tau (float): the regularization strength. Defaults to 1.\n",
    "        max_iter (int, optional): iteration count. Defaults to MAX_ITER.\n",
    "        eps_tol (float, optional): tolerance. Defaults to 1e-6.\n",
    "    \"\"\"\n",
    "    xk = np.zeros(feature_matrix.shape[1])\n",
    "\n",
    "    # Calculate the Lipschitz constant L\n",
    "    L = np.linalg.norm(feature_matrix.T.dot(feature_matrix), 2)\n",
    "    alpha = 1 / L\n",
    "    \n",
    "    # Initialize epsilon_k history\n",
    "    eps_k_history = []\n",
    "\n",
    "    for _ in range(max_iter):\n",
    "        xk_old = xk.copy()\n",
    "        \n",
    "        # Gradient descent step\n",
    "        grad = feature_matrix.T.dot(feature_matrix.dot(xk) - target_vector)\n",
    "        \n",
    "        # Soft thresholding step\n",
    "        xk = soft_thresholding(xk - alpha * grad, alpha * tau)\n",
    "        \n",
    "        # Calculate epsilon_k and check the stopping criterion\n",
    "        eps_k = np.linalg.norm(xk - xk_old)\n",
    "        eps_k_history.append(eps_k)\n",
    "        if eps_k <= eps_tol:\n",
    "            break\n",
    "\n",
    "    return xk, eps_k_history\n",
    "    # raise NotImplementedError(\"You need to implement this function.\")"
   ]
  },
  {
   "cell_type": "markdown",
   "metadata": {},
   "source": [
    "## Question 3 (15p): Implement Lasso with FISTA\n",
    "Implement Lasso with Fista as a function `FISTALasso`. The exact algorithm can be found on page 33 of Summary Notes. Use the same stopping criterion and $\\alpha$ as before.\n",
    "\n",
    "\n",
    "**Hint:** It takes $\\sim10,000$ iterations to converge with FISTA if the vector of optimization arguments is initialized as a vector of zeros."
   ]
  },
  {
   "cell_type": "code",
   "execution_count": 7,
   "metadata": {
    "tags": []
   },
   "outputs": [],
   "source": [
    "def FISTALasso(feature_matrix, target_vector, tau=1, max_iter=MAX_ITER, eps_tol=1e-6):\n",
    "    \"\"\"Linear regression with FISTA and l1 regularization\n",
    "\n",
    "    Args:\n",
    "        feature_matrix (np.array): the feature matrix\n",
    "        target_vector (np.array): the target vector\n",
    "        tau (float): the regularization strength\n",
    "        max_iter (int, optional): iteration count. Defaults to MAX_ITER.\n",
    "        eps_tol (float, optional): tolerance. Defaults to 1e-6.\n",
    "    \"\"\"\n",
    "    L = np.linalg.norm(feature_matrix, 2) ** 2  # Lipchitz constant\n",
    "    alpha = 1 / L\n",
    "    x = np.zeros(feature_matrix.shape[1])\n",
    "    y = x.copy()\n",
    "    t = 1\n",
    "    eps_history = []\n",
    "\n",
    "    for _ in range(max_iter):\n",
    "        x_old = x.copy()\n",
    "        \n",
    "        # Gradient step\n",
    "        grad = feature_matrix.T.dot(feature_matrix.dot(y) - target_vector)\n",
    "        z = y - alpha * grad\n",
    "        \n",
    "        # Soft thresholding\n",
    "        x = soft_thresholding(z, tau * alpha)\n",
    "        \n",
    "        # Update t and y for the next iteration\n",
    "        t_old = t\n",
    "        t = (1 + np.sqrt(1 + 4 * t ** 2)) / 2\n",
    "        y = x + ((t_old - 1) / t) * (x - x_old)\n",
    "        \n",
    "        # Compute the stopping criterion\n",
    "        eps = np.linalg.norm(x - x_old)\n",
    "        eps_history.append(eps)\n",
    "        if eps <= eps_tol:\n",
    "            break\n",
    "\n",
    "    return x, eps_history\n",
    "\n",
    "    # raise NotImplementedError(\"You need to implement this function.\")"
   ]
  },
  {
   "cell_type": "markdown",
   "metadata": {},
   "source": [
    "## Question 4 (20p): Implement Lasso with ADMM\n",
    "Implement Lasso with ADMM as a function `ADMMLasso`. The exact algorithm can be found on page 34 of Summary Notes. Use the same stopping criterion as before. Use a value $\\rho=1$\n",
    "\n",
    "\n",
    "\n",
    "**Hints:** \n",
    "- It takes $\\sim1,000$ iterations to converge with ADMM if the vector of optimization arguments is initialized as a vector of zeros.\n",
    "- The solution with ADMM can be slightly different to that of the previous methods. This is due to the problem being $p > n$\n",
    "- Note that for very large matrices `np.linalg.inv` might give unstable/inaccurate results. Consider using `np.linalg.solve` instead."
   ]
  },
  {
   "cell_type": "code",
   "execution_count": 8,
   "metadata": {
    "tags": []
   },
   "outputs": [],
   "source": [
    "def ADMMLasso(feature_matrix, target_vector, tau=1, max_iter=MAX_ITER, eps_tol=1e-6):\n",
    "    \"\"\"Linear regression with ADMM and l1 regularization\n",
    "\n",
    "    Args:\n",
    "        feature_matrix (np.array): the feature matrix\n",
    "        target_vector (np.array): the target vector\n",
    "        tau (float): the regularization strength\n",
    "        max_iter (int, optional): iteration count. Defaults to MAX_ITER.\n",
    "        eps_tol (float, optional): tolerance. Defaults to 1e-6.\n",
    "    \"\"\"\n",
    "    n, d = feature_matrix.shape  # n samples, d features\n",
    "    x_admm = np.zeros(d)\n",
    "    z_admm = np.zeros(d)\n",
    "    u_admm = np.zeros(d)\n",
    "    \n",
    "    # Precompute some values for efficiency\n",
    "    AtA = feature_matrix.T.dot(feature_matrix)\n",
    "    Atb = feature_matrix.T.dot(target_vector)\n",
    "    I = np.eye(d)\n",
    "    \n",
    "    eps_k_history_admm = []  # To store the values of epsilon_k for each iteration\n",
    "    \n",
    "    for _ in range(max_iter):\n",
    "        # x-update (using np.linalg.solve for stability)\n",
    "        x_new_admm = np.linalg.solve(AtA + 1 * I, Atb + 1 * (z_admm - u_admm))\n",
    "        \n",
    "        # z-update with soft-thresholding\n",
    "        z_new_admm = soft_thresholding(x_new_admm + u_admm, tau / 1)\n",
    "        \n",
    "        # u-update\n",
    "        u_new_admm = u_admm + x_new_admm - z_new_admm\n",
    "        \n",
    "        # Check the stopping criterion\n",
    "        eps_k_admm = np.linalg.norm(x_new_admm - x_admm)\n",
    "        eps_k_history_admm.append(eps_k_admm)\n",
    "        if eps_k_admm <= eps_tol:\n",
    "            break\n",
    "        \n",
    "        # Prepare for the next iteration\n",
    "        x_admm, z_admm, u_admm = x_new_admm, z_new_admm, u_new_admm\n",
    "    \n",
    "    return x_admm, eps_k_history_admm\n",
    "\n",
    "    # raise NotImplementedError(\"You need to implement this function.\")"
   ]
  },
  {
   "cell_type": "markdown",
   "metadata": {},
   "source": [
    "## Question 5 (15p): Run all 3 methods and compare the convergence\n",
    "\n",
    "**Time** each method and compare the runtime and iterations needed to reach the tolerance. Use the given function to check if the solutions given by your methods are sensible. Plot the convergence of each algorithm"
   ]
  },
  {
   "cell_type": "code",
   "execution_count": 9,
   "metadata": {
    "tags": []
   },
   "outputs": [
    {
     "data": {
      "text/plain": [
       "(0.608182430267334, 0.29810285568237305, 0.7138633728027344)"
      ]
     },
     "execution_count": 9,
     "metadata": {},
     "output_type": "execute_result"
    }
   ],
   "source": [
    "# run the algorithms and time them, consider using %time, e.g.,\n",
    "# %time PGALasso(feature_matrix, target_vector, tau=1)\n",
    "\n",
    "# Time the algorithms\n",
    "start_time = time.time()\n",
    "coef_pga = PGALasso(feature_matrix, target_vector, tau=1, max_iter=MAX_ITER, eps_tol=1e-6)\n",
    "pga_time = time.time() - start_time\n",
    "\n",
    "start_time = time.time()\n",
    "coef_fista = FISTALasso(feature_matrix, target_vector, tau=1, max_iter=MAX_ITER, eps_tol=1e-6)\n",
    "fista_time = time.time() - start_time\n",
    "\n",
    "start_time = time.time()\n",
    "coef_admm = ADMMLasso(feature_matrix, target_vector, tau=1, max_iter=MAX_ITER, eps_tol=1e-6)\n",
    "admm_time = time.time() - start_time\n",
    "\n",
    "pga_time, fista_time, admm_time"
   ]
  },
  {
   "cell_type": "code",
   "execution_count": 10,
   "metadata": {
    "tags": []
   },
   "outputs": [
    {
     "data": {
      "image/png": "[encoded data removed]",
      "text/plain": [
       "<Figure size 1000x600 with 1 Axes>"
      ]
     },
     "metadata": {},
     "output_type": "display_data"
    }
   ],
   "source": [
    "# plot the convergence of the algorithms\n",
    "\n",
    "coef_pga, eps_k_history_pga = PGALasso(feature_matrix, target_vector, tau=1)\n",
    "coef_fista, eps_k_history_fista = FISTALasso(feature_matrix, target_vector, tau=1)\n",
    "coef_admm, eps_k_history_admm = ADMMLasso(feature_matrix, target_vector, tau=1)\n",
    "\n",
    "# print(coef_pga)\n",
    "# print(coef_fista)\n",
    "# print(coef_admm)\n",
    "\n",
    "plt.figure(figsize=(10, 6))\n",
    "plt.plot(eps_k_history_pga, label='PGA')\n",
    "plt.plot(eps_k_history_fista, label='FISTA')\n",
    "plt.plot(eps_k_history_admm, label='ADMM')\n",
    "plt.xlabel('Iteration')\n",
    "plt.ylabel('Epsilon_k')\n",
    "plt.title('Convergence of Lasso Algorithms')\n",
    "plt.yscale('log')  # Using a logarithmic scale to better visualize the convergence\n",
    "plt.legend()\n",
    "plt.show()"
   ]
  },
  {
   "cell_type": "markdown",
   "metadata": {},
   "source": [
    "#### Verify your results\n",
    "\n",
    "Use the following code to check that the $R^2$-score for each method is greater than $0.95$."
   ]
  },
  {
   "cell_type": "code",
   "execution_count": 11,
   "metadata": {
    "tags": []
   },
   "outputs": [
    {
     "name": "stdout",
     "output_type": "stream",
     "text": [
      "R2 score for PGALasso: 0.9655695532964956\n",
      "R2 score for FISTALasso: 0.9655850006419548\n",
      "R2 score for ADMMLasso: 0.965584964096908\n"
     ]
    }
   ],
   "source": [
    "# Assuming PGALasso, FISTALasso, and ADMMLasso are implemented as previously described\n",
    "\n",
    "# Calculate R2 scores\n",
    "r2_pga = r2_score(target_vector, feature_matrix @ coef_pga)\n",
    "r2_fista = r2_score(target_vector, feature_matrix @ coef_fista)\n",
    "r2_admm = r2_score(target_vector, feature_matrix @ coef_admm)\n",
    "\n",
    "# Print R2 scores\n",
    "print(f\"R2 score for PGALasso: {r2_pga}\")\n",
    "print(f\"R2 score for FISTALasso: {r2_fista}\")\n",
    "print(f\"R2 score for ADMMLasso: {r2_admm}\")"
   ]
  },
  {
   "cell_type": "markdown",
   "metadata": {},
   "source": [
    "### Answer the following question(s):\n",
    "1. Compare the convergence of the three algorithms, which is fastest in time? Which requires the least iterations?"
   ]
  },
  {
   "cell_type": "markdown",
   "metadata": {},
   "source": [
    "FISTA is the fastest in time. \n",
    "ADMM requires the least iterations."
   ]
  },
  {
   "cell_type": "markdown",
   "metadata": {},
   "source": [
    "## Question 6 (8p): Derive the ElasticNet proximal operator\n",
    "\n",
    "ElasticNet (EN) regularization combines $\\ell1$ (Lasso) and $\\ell2$ (Ridge) penalty. Assume each is associated with a $\\tau_i$ controlling the regularization strength. EN regularization can be defined as:\n",
    "$$\n",
    "    f(x) = \\tau_1\\lVert x \\rVert_1 +  \\tau_2\\lVert x \\rVert_2\n",
    "$$\n",
    "From this, the proximal operator for EN follows:\n",
    "$$\n",
    "    prox_{f(\\cdot)}(x) = prox_{\\tau_1\\lVert\\cdot\\rVert_1}\\left(prox_{\\tau_2\\lVert\\cdot\\rVert_2}\\right)(x).\n",
    "$$\n",
    "**Define the ElasticNet proximal operator** in terms of $\\tau$ and $\\alpha$, where \n",
    "$$\n",
    "\\begin{align*}\n",
    "\\tau &= \\tau_1 + \\tau_2,\\\\\n",
    "\\alpha &= \\frac{\\tau_1}{\\tau_1 + \\tau_2},\n",
    "\\end{align*}\n",
    "$$\n",
    "where $\\tau$ controls the total regularization and $\\alpha\\in[0,1]$  the ratio between the $\\ell1$ and $\\ell2$ components. In other words, if $\\alpha=1$, the proximal is equivalent to Lasso (soft tresholding).\n",
    "\n",
    "**Hints:** \n",
    " - you should be able to reuse the `soft_thresholding` function made earlier\n",
    " - it is recommended to derive the proximal operator analytically on pen&paper before starting to code.\n",
    " - the book [Proximal Algorithms](https://web.stanford.edu/~boyd/papers/pdf/prox_algs.pdf) might be a good resource in addition to course material\n"
   ]
  },
  {
   "cell_type": "code",
   "execution_count": 12,
   "metadata": {
    "tags": []
   },
   "outputs": [],
   "source": [
    "def proxEN(x, tau, l1_ratio):\n",
    "    tau_1 = tau * l1_ratio\n",
    "    tau_2 = tau * (1 - l1_ratio)\n",
    "    \n",
    "    x_soft = soft_thresholding(x, l1_ratio * tau)\n",
    "    x_en = x_soft / (1 + (1 - l1_ratio) * tau)\n",
    "    \n",
    "    return x_en\n",
    "    \n",
    "    # raise NotImplementedError(\"You need to implement this function.\")"
   ]
  },
  {
   "cell_type": "code",
   "execution_count": 13,
   "metadata": {
    "tags": []
   },
   "outputs": [
    {
     "name": "stdout",
     "output_type": "stream",
     "text": [
      "[-0.46877901  1.12273647 -0.00999565  0.        ]\n",
      "[-0.46877901  1.12273647 -0.00999565  0.        ]\n",
      "[ 0.33333333 -0.33333333  1.         -1.        ]\n",
      "[ 0.33333333 -0.33333333  1.         -1.        ]\n",
      "[ 0.2 -0.2  1.  -1. ]\n",
      "[ 0.2 -0.2  1.  -1. ]\n"
     ]
    }
   ],
   "source": [
    "# you can use the following minimal unit-tests to check your function is correct\n",
    "\n",
    "# check that Lasso proximal is correct (i.e., l1_ratio = 1)\n",
    "test_input = np.random.randn(4)\n",
    "tau = 0.2\n",
    "l1_ratio = 1.0\n",
    "output = proxEN(test_input, tau, l1_ratio)\n",
    "print(output)\n",
    "expected_output = soft_thresholding(test_input, tau)\n",
    "print(expected_output)\n",
    "assert np.allclose(output, expected_output), \"Lasso proximal incorrect\"\n",
    "\n",
    "# check that ridge proximal is correct (i.e., l1_ratio = 0)\n",
    "test_input = np.array([0.5, -0.5, 1.5, -1.5])\n",
    "tau = 0.5\n",
    "l1_ratio = 0.0\n",
    "output = proxEN(test_input, tau, l1_ratio)\n",
    "print(output)\n",
    "expected_output = test_input/(1 + tau)\n",
    "print(expected_output)\n",
    "assert np.allclose(output, expected_output), \"Ridge proximal incorrect\"\n",
    "\n",
    "# check that EN proximal is correct (i.e. 0<l1_ratio<1 )\n",
    "test_input = np.array([0.5, -0.5, 1.5, -1.5])\n",
    "tau = 0.5\n",
    "l1_ratio = 0.5\n",
    "output = proxEN(test_input, tau, l1_ratio)\n",
    "print(output)\n",
    "expected_output = np.array([0.2, -0.2, 1, -1])\n",
    "print(expected_output)\n",
    "assert np.allclose(output, expected_output), \"EN proximal incorrect\"\n"
   ]
  },
  {
   "cell_type": "markdown",
   "metadata": {},
   "source": [
    "## Question 7 (25p): Implement ElasticNet with PGA and FISTA\n",
    "Unilke ADMM, PGA and FISTA are simple to modify for a different objective. Create two new functions `PGAElasticNet` and `FISTAElasticNet`. You should be able to re-use a large part of the Lasso functions. Use the `proxEN` function. \n",
    "\n",
    "\n",
    "**Use an l1-ratio of 0.2**"
   ]
  },
  {
   "cell_type": "code",
   "execution_count": 14,
   "metadata": {
    "tags": []
   },
   "outputs": [],
   "source": [
    "def PGAElasticNet(feature_matrix, target_vector, tau=1.0, l1_ratio=0.2, max_iter=MAX_ITER, eps_tol=1e-6):\n",
    "    \"\"\"Linear regression with proximal gradient algorithm and elastic net regularization\n",
    "\n",
    "    Args:\n",
    "        feature_matrix (np.array): the feature matrix\n",
    "        target_vector (np.array): the target vector\n",
    "        tau (float): the regularization strength\n",
    "        l1_ratio (float): the ratio between l1 and l2 regularization\n",
    "        max_iter (int, optional): iteration count. Defaults to MAX_ITER.\n",
    "        eps_tol (float, optional): tolerance. Defaults to 1e-6.\n",
    "    \"\"\"\n",
    "    n_features = feature_matrix.shape[1]\n",
    "    xk = np.zeros(n_features)\n",
    "    alpha = 1 / np.linalg.norm(feature_matrix, ord=2) ** 2\n",
    "    eps_k_pga = []\n",
    "    \n",
    "    for _ in range(max_iter):\n",
    "        gradient = feature_matrix.T.dot(feature_matrix.dot(xk) - target_vector)\n",
    "        xk_new = proxEN(xk - alpha * gradient, tau * alpha, l1_ratio)\n",
    "        \n",
    "        eps_k = np.linalg.norm(xk_new - xk)\n",
    "        eps_k_pga.append(eps_k)\n",
    "        \n",
    "        if np.linalg.norm(xk_new - xk) <= eps_tol:\n",
    "            break\n",
    "        xk = xk_new\n",
    "\n",
    "    return xk, eps_k_pga\n",
    "    # raise NotImplementedError(\"You need to implement this function.\")"
   ]
  },
  {
   "cell_type": "code",
   "execution_count": 15,
   "metadata": {
    "tags": []
   },
   "outputs": [],
   "source": [
    "def FISTAElasticNet(feature_matrix, target_vector, tau=1.0, l1_ratio=0.2, max_iter=MAX_ITER, eps_tol=1e-6):\n",
    "    \"\"\"Linear regression with FISTA and elastic net regularization\n",
    "\n",
    "    Args:\n",
    "        feature_matrix (np.array): the feature matrix\n",
    "        target_vector (np.array): the target vector\n",
    "        tau (float): the regularization strength\n",
    "        l1_ratio (float): the ratio between l1 and l2 regularization\n",
    "        max_iter (int, optional): iteration count. Defaults to MAX_ITER.\n",
    "        eps_tol (float, optional): tolerance. Defaults to 1e-6.\n",
    "    \"\"\"\n",
    "    m, n = feature_matrix.shape\n",
    "    x = np.zeros(n)\n",
    "    y = x.copy()\n",
    "    t = 1\n",
    "    L = np.linalg.norm(feature_matrix, ord=2) ** 2\n",
    "    alpha = 1 / L\n",
    "    eps_k_fista = []\n",
    "\n",
    "    for _ in range(max_iter):\n",
    "        x_old = x.copy()\n",
    "        gradient = feature_matrix.T.dot(feature_matrix.dot(y) - target_vector)\n",
    "        x = proxEN(y - alpha * gradient, alpha * tau, l1_ratio)\n",
    "        t_old = t\n",
    "        t = (1 + np.sqrt(1 + 4 * t ** 2)) / 2\n",
    "        y = x + ((t_old - 1) / t) * (x - x_old)\n",
    "\n",
    "        eps_k = np.linalg.norm(x - x_old)\n",
    "        eps_k_fista.append(eps_k)\n",
    "        \n",
    "        if np.linalg.norm(x - x_old) <= eps_tol:\n",
    "            break\n",
    "\n",
    "    return x, eps_k_fista\n",
    "    # raise NotImplementedError(\"You need to implement this function.\")"
   ]
  },
  {
   "cell_type": "code",
   "execution_count": 16,
   "metadata": {
    "tags": []
   },
   "outputs": [
    {
     "data": {
      "text/plain": [
       "(1.3249633312225342, 0.4570760726928711)"
      ]
     },
     "execution_count": 16,
     "metadata": {},
     "output_type": "execute_result"
    }
   ],
   "source": [
    "# run the algorithms and time them, consider using %time, e.g.,\n",
    "# %time PGAElasticNet(feature_matrix, target_vector, tau=1, l1_ratio=0.9)\n",
    "start_time = time.time()\n",
    "coef_pga_en = PGAElasticNet(feature_matrix, target_vector, tau=1.0, l1_ratio=0.2, max_iter=MAX_ITER, eps_tol=1e-6)\n",
    "pga_en_time = time.time() - start_time\n",
    "\n",
    "start_time = time.time()\n",
    "coef_fista_en = FISTAElasticNet(feature_matrix, target_vector, tau=1.0, l1_ratio=0.2, max_iter=MAX_ITER, eps_tol=1e-6)\n",
    "fista_en_time = time.time() - start_time\n",
    "\n",
    "pga_en_time, fista_en_time"
   ]
  },
  {
   "cell_type": "markdown",
   "metadata": {},
   "source": [
    "### Verify your results\n",
    "\n",
    "Use the given code to compute the R2-scores. They should be noticeably higher (greater than 0.99). Note that while the goodness of fit has increased, this provides no insight whether the generalization of the model improved. Subsequent homework will study generalization and robustness in further detail."
   ]
  },
  {
   "cell_type": "code",
   "execution_count": 17,
   "metadata": {
    "tags": []
   },
   "outputs": [
    {
     "name": "stdout",
     "output_type": "stream",
     "text": [
      "R2 score for PGAElasticNet: 0.9957275055624699\n",
      "R2 score for FISTAElasticNet: 0.9957282850001965\n"
     ]
    }
   ],
   "source": [
    "coef_pga_en, eps_k_pga = PGAElasticNet(feature_matrix, target_vector, tau=1.0, l1_ratio=0.2, max_iter=MAX_ITER, eps_tol=1e-6)\n",
    "coef_fista_en, eps_k_fista = FISTAElasticNet(feature_matrix, target_vector, tau=1.0, l1_ratio=0.2, max_iter=MAX_ITER, eps_tol=1e-6)\n",
    "\n",
    "# the coef_* refer to the coefficients x returned by the algorithms\n",
    "r2_pga_en = r2_score(target_vector, feature_matrix @ coef_pga_en)\n",
    "r2_fista_en = r2_score(target_vector, feature_matrix @ coef_fista_en)\n",
    "print(f\"R2 score for PGAElasticNet: {r2_pga_en}\")\n",
    "print(f\"R2 score for FISTAElasticNet: {r2_fista_en}\")"
   ]
  },
  {
   "cell_type": "markdown",
   "metadata": {},
   "source": [
    "### Answer the following question(s):\n",
    "1. In a few sentences, explain why ADMM could not be adapted to ElasticNet trivially.\n"
   ]
  },
  {
   "cell_type": "markdown",
   "metadata": {},
   "source": [
    "ADMM (Alternating Direction Method of Multipliers) is tailored for separable objectives where the optimization problem can be split into smaller subproblems that can be solved independently. The algorithm leverages the structure of the optimization problem, where it alternates between updating primal variables, dual variables, and then combines them using a Lagrange multiplier update step.\n",
    "\n",
    "ElasticNet regularization combines the ℓ1 (Lasso) and ℓ2 (Ridge) penalties into a single non-separable objective function. The coupling of ℓ1 and ℓ2 norms in ElasticNet does not lead to a straightforward separation into subproblems that can be addressed independently, which is a key assumption for the ADMM's splitting strategy. While ADMM can be applied to ElasticNet, it requires a more complex reformulation of the problem, such as variable splitting or the introduction of auxiliary variables, to create a structure that ADMM can exploit. This is in contrast to Lasso alone, which readily fits into the ADMM framework due to its separable nature."
   ]
  },
  {
   "cell_type": "markdown",
   "metadata": {
    "tags": []
   },
   "source": [
    "### (Optional) Plot convergence figures and/or analyze the coefficients"
   ]
  },
  {
   "cell_type": "code",
   "execution_count": 18,
   "metadata": {
    "tags": []
   },
   "outputs": [
    {
     "data": {
      "image/png": "[encoded data removed]",
      "text/plain": [
       "<Figure size 1000x600 with 1 Axes>"
      ]
     },
     "metadata": {},
     "output_type": "display_data"
    }
   ],
   "source": [
    "plt.figure(figsize=(10, 6))\n",
    "plt.plot(eps_k_pga, label='PGA')\n",
    "plt.plot(eps_k_fista, label='FISTA')\n",
    "plt.xlabel('Iteration')\n",
    "plt.ylabel('Epsilon_k')\n",
    "plt.title('Convergence of Lasso Algorithms')\n",
    "plt.yscale('log')  # Using a logarithmic scale to better visualize the convergence\n",
    "plt.legend()\n",
    "plt.show()"
   ]
  },
  {
   "cell_type": "code",
   "execution_count": null,
   "metadata": {},
   "outputs": [],
   "source": []
  }
 ],
 "metadata": {
  "kernelspec": {
   "display_name": "Python 3",
   "language": "python",
   "name": "python3"
  },
  "language_info": {
   "codemirror_mode": {
    "name": "ipython",
    "version": 3
   },
   "file_extension": ".py",
   "mimetype": "text/x-python",
   "name": "python",
   "nbconvert_exporter": "python",
   "pygments_lexer": "ipython3",
   "version": "3.10.12"
  }
 },
 "nbformat": 4,
 "nbformat_minor": 4
}
