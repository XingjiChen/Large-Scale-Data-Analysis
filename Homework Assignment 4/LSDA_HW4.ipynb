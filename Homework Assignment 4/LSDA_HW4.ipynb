{
 "cells": [
  {
   "cell_type": "markdown",
   "metadata": {},
   "source": [
    "# Homework Assignment 4\n",
    "Return this notebook (filled with your answers) by the deadline via mycourses. Also provide pdf printout of the notebook.\n",
    "\n",
    "Note that the notebook that you submit needs to work. Reduction of points may be possible if it does not.\n",
    "\n",
    "Name: **Xingji Chen** <br>\n",
    "Student number: **101659554**"
   ]
  },
  {
   "cell_type": "code",
   "execution_count": 2,
   "metadata": {
    "tags": []
   },
   "outputs": [],
   "source": [
    "import matplotlib.pyplot as plt\n",
    "import numpy as np\n",
    "\n",
    "# Used for data generation\n",
    "from scipy.stats import chi2\n",
    "\n",
    "# These imports cover all the functionality to implement custom ensemble methods\n",
    "from sklearn.base import BaseEstimator, ClassifierMixin, clone\n",
    "from sklearn.ensemble import (\n",
    "    AdaBoostClassifier,\n",
    "    BaggingClassifier,\n",
    "    RandomForestClassifier,\n",
    ")\n",
    "from sklearn.metrics import accuracy_score\n",
    "from sklearn.preprocessing import LabelEncoder\n",
    "from sklearn.tree import DecisionTreeClassifier\n",
    "\n",
    "# These imports are used to conform to the scikit-learn API,\n",
    "# you may use them if you want, but it is not necessary.\n",
    "from sklearn.utils.estimator_checks import check_estimator\n",
    "from sklearn.utils.multiclass import unique_labels\n",
    "from sklearn.utils.validation import (\n",
    "    _check_sample_weight,\n",
    "    check_array,\n",
    "    check_is_fitted,\n",
    "    check_random_state,\n",
    "    check_X_y,\n",
    ")\n",
    "\n",
    "# If fitting is slow, consider using tqdm to visualize the progress\n",
    "from tqdm import tqdm"
   ]
  },
  {
   "cell_type": "markdown",
   "metadata": {},
   "source": [
    "## Overview\n",
    "\n",
    "In this assignment you will be implementing two different ensemble methods: Bagging and Boosting. In order to gain some experience in writing scikit-learn compatible estimators, you will be following the class structure and API from scikit-learn. Following the API enables you to use further functionality from scikit such as pipelines, hyperparameter optimization, preprocessing, and model selection. Furthermore, methods such as `score` can be automatically inherrited from the parent class.\n",
    "\n",
    "You should already have some familiarity with how to fit and predict with sklearn estimators such as `LinearRegression`. Overall, what are needed in a custom estimator are an `__init__` to initialize the class instance, a `fit` to train the estimator, and a `predict` to provide predictions for new data. To get started, read scikit-learn documentation on how new estimators should be constructed [here](https://scikit-learn.org/stable/developers/develop.html)."
   ]
  },
  {
   "cell_type": "markdown",
   "metadata": {},
   "source": [
    "## Data generation"
   ]
  },
  {
   "cell_type": "code",
   "execution_count": 3,
   "metadata": {
    "tags": []
   },
   "outputs": [],
   "source": [
    "def generate_data(num_samples, num_features):\n",
    "    \"\"\"Generate a random dataset for binary classification.\n",
    "\n",
    "    Arguments:\n",
    "        num_samples -- number of samples to be generated\n",
    "        num_features -- number of features to be used\n",
    "\n",
    "    Returns:\n",
    "        X -- an array of shape (num_samples, num_features)\n",
    "        y -- an array of shape (num_samples,)\n",
    "    \"\"\"\n",
    "    X = np.random.normal(size=(num_samples, num_features))\n",
    "    sum_of_squares = np.sum(X**2, axis=1)\n",
    "    critical_value = chi2.ppf(q=0.5, df=num_features)\n",
    "    y = np.ones(num_samples)\n",
    "    y[sum_of_squares <= critical_value] = -1\n",
    "    return X, y"
   ]
  },
  {
   "cell_type": "code",
   "execution_count": 4,
   "metadata": {
    "tags": []
   },
   "outputs": [],
   "source": [
    "# Set random seed such that you always get the same dataset\n",
    "np.random.seed(0)\n",
    "train_samples = 2000\n",
    "test_samples = 10000\n",
    "features = 10\n",
    "X_train, y_train = generate_data(train_samples, features)\n",
    "X_test, y_test = generate_data(test_samples, features)\n"
   ]
  },
  {
   "cell_type": "markdown",
   "metadata": {},
   "source": [
    "***\n",
    "# Question 1 (33p)\n",
    "In this problem you will implement the **bagging algorithm** for a binary classification problem and use it to redo Figure 2.3a in the lecture notes."
   ]
  },
  {
   "cell_type": "code",
   "execution_count": 5,
   "metadata": {
    "tags": []
   },
   "outputs": [],
   "source": [
    "n_estimators = 200"
   ]
  },
  {
   "cell_type": "markdown",
   "metadata": {},
   "source": [
    "#### Reference implementation"
   ]
  },
  {
   "cell_type": "code",
   "execution_count": 6,
   "metadata": {
    "tags": []
   },
   "outputs": [
    {
     "name": "stdout",
     "output_type": "stream",
     "text": [
      "CPU times: user 5.08 s, sys: 0 ns, total: 5.08 s\n",
      "Wall time: 5.08 s\n",
      "Train accuracy: 1.000\n",
      "Test accuracy: 0.861\n"
     ]
    }
   ],
   "source": [
    "clf_sk_bag = BaggingClassifier(n_estimators=n_estimators, random_state=42)\n",
    "%time clf_sk_bag.fit(X_train, y_train)\n",
    "\n",
    "print(f\"Train accuracy: {clf_sk_bag.score(X_train, y_train):.3f}\")\n",
    "print(f\"Test accuracy: {clf_sk_bag.score(X_test, y_test):.3f}\")"
   ]
  },
  {
   "cell_type": "markdown",
   "metadata": {},
   "source": [
    "## Question 1a (23p)\n",
    "\n",
    "Implement the missing functionality from `MyBaggingClassifier`. Break the task down into smaller steps:\n",
    "1. Implement the `fit` method. The bagging algorithm for classification is described in Algorithm 2.1 of lecture notes. You only need to implement the method for the non majority vote case (i.e., largest mean probability prediction of the ensemble).\n",
    "2. Implement the `predict` method. Again, implement the non majority vote case.\n",
    "3. Implement the `staged_predict` method. This function should return the prediction for each iteration (i.e., a prediction for $1, 2, 3, \\ldots, B$ estimators). You may either return a 2D array of shape (n_samples, n_estimators) or use the `yield` keyword to return a generator.\n",
    "4. Implement the `staged_oob_score` method. This method should return the out-of-bag (OOB) training errors for each added estimator.\n",
    "\n",
    "\n",
    "**Hint:** If you want to follow the scikit-learn style exactly (this is optional), use the `check_estimator` function to verify that your class implementation is done correctly."
   ]
  },
  {
   "cell_type": "code",
   "execution_count": 7,
   "metadata": {
    "tags": []
   },
   "outputs": [],
   "source": [
    "class MyBaggingClassifier(ClassifierMixin, BaseEstimator):\n",
    "    \"\"\"Custom BaggingClassifier implementation.\"\"\"\n",
    "\n",
    "    def __init__(self, estimator=None, n_estimators=10, random_state=None):\n",
    "        \"\"\"Initialize the BaggingClassifier.\n",
    "\n",
    "        Keyword Arguments:\n",
    "            estimator -- base estimator used in the ensemble (default: {None})\n",
    "            n_estimators -- number of estimators used in the ensembe (default: {10})\n",
    "            random_state -- random state (default: {None})\n",
    "        \"\"\"\n",
    "        self.estimator = estimator if estimator else DecisionTreeClassifier()\n",
    "        self.n_estimators = n_estimators\n",
    "        self.random_state = random_state\n",
    "\n",
    "    def fit(self, X, y, verbose=False):\n",
    "        \"\"\"Fit the BaggingClassifier to the training data.\n",
    "\n",
    "        Arguments:\n",
    "            X -- Training data, should be array like of shape (n_samples, n_features)\n",
    "            y -- Target values, should be array like of shape (n_samples,)\n",
    "\n",
    "        Keyword Arguments:\n",
    "            verbose -- enable debugging information (default: {False})\n",
    "\n",
    "        Returns:\n",
    "            self -- fitted instance of the BaggingClassifier\n",
    "        \"\"\"\n",
    "        self.random_state_ = check_random_state(self.random_state)\n",
    "        X, y = check_X_y(X, y)\n",
    "        self.classes_ = unique_labels(y)\n",
    "        self.n_features_in_ = X.shape[1]\n",
    "\n",
    "        self.estimators_ = []\n",
    "        self.oob_scores_ = []\n",
    "\n",
    "        for i in range(self.n_estimators):\n",
    "            sample_indices = self.random_state_.randint(0, len(X), len(X))\n",
    "            X_sample, y_sample = X[sample_indices], y[sample_indices]\n",
    "            oob_indices = np.setdiff1d(np.arange(len(X)), np.unique(sample_indices))\n",
    "\n",
    "            estimator = clone(self.estimator)\n",
    "            estimator.fit(X_sample, y_sample)\n",
    "            self.estimators_.append(estimator)\n",
    "\n",
    "            if len(oob_indices) > 0:\n",
    "                oob_score = accuracy_score(y[oob_indices], estimator.predict(X[oob_indices]))\n",
    "                self.oob_scores_.append(oob_score)\n",
    "            else:\n",
    "                # Append None or an alternative value to indicate no OOB samples were available\n",
    "                self.oob_scores_.append(None)\n",
    "\n",
    "        return self\n",
    "\n",
    "    def predict(self, X):\n",
    "        \"\"\"Predict the target values for the given data.\n",
    "\n",
    "        Arguments:\n",
    "            X -- Data to predict, should be array like of shape (n_samples, n_features)\n",
    "\n",
    "        Returns:\n",
    "            array -- Predicted target values\n",
    "        \"\"\"\n",
    "        check_is_fitted(self)\n",
    "        X = check_array(X)\n",
    "    \n",
    "        if X.shape[1] != self.n_features_in_:\n",
    "            raise ValueError(f\"X should have {self.n_features_in_} features; got {X.shape[1]}\")\n",
    "\n",
    "\n",
    "        # your code here\n",
    "        # raise NotImplementedError(\"You should implement this!\")\n",
    "        \n",
    "        predictions = np.array([estimator.predict(X) for estimator in self.estimators_])\n",
    "\n",
    "        # Map labels to a non-negative space if necessary\n",
    "        label_mapping = {label: idx for idx, label in enumerate(self.classes_)}\n",
    "        inv_label_mapping = {idx: label for label, idx in label_mapping.items()}\n",
    "    \n",
    "        mapped_predictions = np.vectorize(label_mapping.get)(predictions)\n",
    "\n",
    "        # Apply majority voting\n",
    "        majority_vote_indices = np.apply_along_axis(lambda x: np.bincount(x, minlength=len(self.classes_)).argmax(), axis=0, arr=mapped_predictions)\n",
    "\n",
    "        # Map the majority vote results back to the original label space\n",
    "        majority_vote = np.vectorize(inv_label_mapping.get)(majority_vote_indices)\n",
    "\n",
    "        return majority_vote\n",
    "    \n",
    "    def staged_predict(self, X):\n",
    "        check_is_fitted(self)\n",
    "        X = check_array(X)\n",
    "\n",
    "        if X.shape[1] != self.n_features_in_:\n",
    "            raise ValueError(f\"X should have {self.n_features_in_} features; got {X.shape[1]}\")\n",
    "\n",
    "        # Create a mapping from your class labels to non-negative integers\n",
    "        label_to_int = {label: i for i, label in enumerate(self.classes_)}\n",
    "        int_to_label = {i: label for label, i in label_to_int.items()}\n",
    "\n",
    "        for i in range(self.n_estimators):\n",
    "            predictions = np.array([est.predict(X) for est in self.estimators_[:i + 1]])\n",
    "\n",
    "            # Map predictions to non-negative integer space\n",
    "            int_predictions = np.vectorize(label_to_int.get)(predictions)\n",
    "\n",
    "            # Now use np.bincount to get the majority vote\n",
    "            majority_vote_int = np.apply_along_axis(lambda x: np.bincount(x, minlength=len(self.classes_)).argmax(), axis=0, arr=int_predictions)\n",
    "\n",
    "            # Map integer predictions back to original class labels\n",
    "            majority_vote = np.vectorize(int_to_label.get)(majority_vote_int)\n",
    "\n",
    "            yield majority_vote\n",
    "\n",
    "\n",
    "    def staged_oob_score(self):\n",
    "        \"\"\"Return the out-of-bag score for each estimator.\n",
    "\n",
    "        Returns:\n",
    "            array -- Out-of-bag score for each estimator\n",
    "        \"\"\"\n",
    "        check_is_fitted(self)\n",
    "        \n",
    "        for score in self.oob_scores_:\n",
    "            yield score\n",
    "        # your code here\n",
    "        # Hint, you should store the out-of-bag score for each estimator during the fit\n",
    "        # and return it here. store it in a list such as `self.oob_score_`\n",
    "        # raise NotImplementedError(\"You should implement this!\")\n",
    "\n",
    "    def _more_tags(self):\n",
    "        # This method is used by scikit-learn to check capabilities\n",
    "        # of the estimator. Please don't modify this method.\n",
    "        return {\"binary_only\": True}\n",
    "    "
   ]
  },
  {
   "cell_type": "markdown",
   "metadata": {},
   "source": [
    "#### Optional: run the check estimator"
   ]
  },
  {
   "cell_type": "code",
   "execution_count": 8,
   "metadata": {
    "tags": []
   },
   "outputs": [],
   "source": [
    "#clf = MyBaggingClassifier(n_estimators=5, random_state=42)\n",
    "#check_estimator(clf)"
   ]
  },
  {
   "cell_type": "markdown",
   "metadata": {},
   "source": [
    "#### Fit and score the model\n",
    "\n",
    "You should get results within approximately 5% of the reference implementation"
   ]
  },
  {
   "cell_type": "code",
   "execution_count": 9,
   "metadata": {
    "tags": []
   },
   "outputs": [
    {
     "name": "stdout",
     "output_type": "stream",
     "text": [
      "CPU times: user 6.18 s, sys: 3.65 ms, total: 6.18 s\n",
      "Wall time: 6.18 s\n",
      "Train accuracy: 1.000\n",
      "Test accuracy: 0.860\n"
     ]
    }
   ],
   "source": [
    "clf = MyBaggingClassifier(n_estimators=n_estimators, random_state=42)\n",
    "%time clf.fit(X_train, y_train)\n",
    "\n",
    "print(f\"Train accuracy: {clf.score(X_train, y_train):.3f}\")\n",
    "print(f\"Test accuracy: {clf.score(X_test, y_test):.3f}\")"
   ]
  },
  {
   "cell_type": "markdown",
   "metadata": {},
   "source": [
    "## Question 1b (10p)\n",
    "Use the class `MyBaggingClassifier` to redo the Figure 2.3a in the lecture notes. Some randomness is inevitable due to the sample bootstrap process, but overall deviations from the reference figure should be very small.\n",
    "\n",
    "**Tasks:**\n",
    "1. Plot the test error of a stump (i.e., a 2-leaf tree). Use the `DecisionTreeClassifier`.\n",
    "2. Plot the test error of a full tree. Use the `DecisionTreeClassifier` with it's default arguments.\n",
    "3. Plot the staged OOB training error. You should be able to get this from the `staged_oob_score` method.\n",
    "4. Plot the staged test error. You should be able to get this from the `staged_predict` method."
   ]
  },
  {
   "cell_type": "code",
   "execution_count": 10,
   "metadata": {
    "tags": []
   },
   "outputs": [
    {
     "name": "stdout",
     "output_type": "stream",
     "text": [
      "Stump error rate  : 45.70%\n",
      "245-node error error rate  : 24.79%\n"
     ]
    }
   ],
   "source": [
    "stump = DecisionTreeClassifier(max_leaf_nodes=2).fit(X_train, y_train)\n",
    "stump_error = 1 - accuracy_score(y_test, stump.predict(X_test))  \n",
    "print(\"Stump error rate  : {:5.2f}%\".format(100 * stump_error))            \n",
    "\n",
    "node_245 = DecisionTreeClassifier(max_leaf_nodes=123).fit(X_train, y_train)\n",
    "node_245_error = 1 - accuracy_score(y_test, node_245.predict(X_test))\n",
    "print(\"245-node error error rate  : {:5.2f}%\".format(100 * node_245_error))  "
   ]
  },
  {
   "cell_type": "code",
   "execution_count": 50,
   "metadata": {
    "tags": []
   },
   "outputs": [],
   "source": [
    "def ooberror(X, y, n_estimators):\n",
    "    forest = []\n",
    "    errors = []\n",
    "    bootstrapped_indices = []\n",
    "    \n",
    "    for i in range(n_estimators):\n",
    "        tree = DecisionTreeClassifier()\n",
    "        bootstrap_idx = np.random.choice(len(X), size=len(X))\n",
    "        bootstrapped_indices.append(bootstrap_idx)\n",
    "        \n",
    "        bootstrap_X = X[bootstrap_idx]\n",
    "        bootstrap_y = y[bootstrap_idx]\n",
    "        \n",
    "        tree.fit(bootstrap_X, bootstrap_y)\n",
    "        forest.append(tree)\n",
    "        \n",
    "        tree_predictions = np.array([t.predict(X) for t in forest])\n",
    "        \n",
    "        for pred, indices in zip(tree_predictions, bootstrapped_indices):\n",
    "            pred[indices] = 0\n",
    "        \n",
    "        oob_prediction = 2 * (np.sum(tree_predictions.T, axis=1) >= 0) - 1\n",
    "        error = 1 - accuracy_score(y, oob_prediction)\n",
    "        errors.append(error)\n",
    "    \n",
    "    return forest, errors\n",
    "\n",
    "def testerror(trees, X, y):\n",
    "    test_error = []\n",
    "    \n",
    "    for i in range(len(trees)):\n",
    "        # Aggregate predictions from the first i+1 trees\n",
    "        y_pred = 2 * (np.sum(np.array([tree.predict(X) for tree in trees[:i + 1]]).T, axis=1) >= 0) - 1\n",
    "        # Calculate and store the test error\n",
    "        test_error.append(1 - accuracy_score(y, y_pred))\n",
    "    \n",
    "    return test_error\n"
   ]
  },
  {
   "cell_type": "code",
   "execution_count": 51,
   "metadata": {
    "tags": []
   },
   "outputs": [
    {
     "name": "stdout",
     "output_type": "stream",
     "text": [
      "CPU times: user 11.3 s, sys: 3.81 ms, total: 11.3 s\n",
      "Wall time: 11.4 s\n",
      "CPU times: user 17.4 s, sys: 27.9 ms, total: 17.4 s\n",
      "Wall time: 17.4 s\n"
     ]
    }
   ],
   "source": [
    "n_estimators = 200\n",
    "\n",
    "%time trees, oob_error = ooberror(X_train, y_train, n_estimators)\n",
    "%time test_error = testerror(trees, X_test, y_test)"
   ]
  },
  {
   "cell_type": "code",
   "execution_count": 52,
   "metadata": {
    "tags": []
   },
   "outputs": [
    {
     "data": {
      "image/png": "[encoded data removed]",
      "text/plain": [
       "<Figure size 640x480 with 1 Axes>"
      ]
     },
     "metadata": {},
     "output_type": "display_data"
    }
   ],
   "source": [
    "# Plotting\n",
    "plt.grid()\n",
    "plt.plot(oob_error, label='OOB training error')\n",
    "plt.plot(test_error, label='test error')\n",
    "plt.plot([stump_error] * n_estimators, \"--\", label='stump error')\n",
    "plt.plot([node_245_error] * n_estimators, \"-.\", label='245-node error')\n",
    "plt.xlabel('Number of Estimators')\n",
    "plt.ylabel('Error')\n",
    "plt.legend()\n",
    "plt.title('Error vs Number of Estimators')\n",
    "plt.show()"
   ]
  },
  {
   "cell_type": "markdown",
   "metadata": {},
   "source": [
    "***\n",
    "# Question 2 (23p)\n",
    "In this problem you will implement the **Random Forest** algorithm for the binary classification problem and use it to redo the Figure 3.3b in the lecture notes."
   ]
  },
  {
   "cell_type": "code",
   "execution_count": 53,
   "metadata": {},
   "outputs": [],
   "source": [
    "n_estimators = 200\n",
    "max_features = 2\n",
    "min_samples_leaf = 3"
   ]
  },
  {
   "cell_type": "markdown",
   "metadata": {},
   "source": [
    "#### Reference implementation"
   ]
  },
  {
   "cell_type": "code",
   "execution_count": 54,
   "metadata": {},
   "outputs": [
    {
     "name": "stdout",
     "output_type": "stream",
     "text": [
      "CPU times: user 1.18 s, sys: 4 ms, total: 1.18 s\n",
      "Wall time: 1.18 s\n",
      "Train accuracy: 0.999\n",
      "Test accuracy: 0.873\n"
     ]
    }
   ],
   "source": [
    "clf_sk_rf = RandomForestClassifier(\n",
    "    n_estimators=n_estimators,\n",
    "    max_features=max_features,\n",
    "    min_samples_leaf=min_samples_leaf,\n",
    "    random_state=42,\n",
    ")\n",
    "%time clf_sk_rf.fit(X_train, y_train)\n",
    "\n",
    "print(f\"Train accuracy: {clf_sk_rf.score(X_train, y_train):.3f}\")\n",
    "print(f\"Test accuracy: {clf_sk_rf.score(X_test, y_test):.3f}\")"
   ]
  },
  {
   "cell_type": "markdown",
   "metadata": {},
   "source": [
    "## Question 2a (13p)\n",
    "\n",
    "Implement **Random Forest** from Algorithm 2.2 of the lecture notes. See what needs to be changed or added to the Bagging class made before. Use the given arguments for the number of estimators (200), number of features (2), and minimum samples per leaf (3). To create the base estimator, use the scikit-learn `DecisionTreeClassifier`."
   ]
  },
  {
   "cell_type": "code",
   "execution_count": 82,
   "metadata": {},
   "outputs": [],
   "source": [
    "def RandomForest(X, y, B, d, nmin):\n",
    "    trees = []\n",
    "    error = []\n",
    "    bootstrapped = []\n",
    "    \n",
    "    for _ in range(B):\n",
    "        tree = DecisionTreeClassifier(max_features = d, min_samples_leaf = nmin)\n",
    "        \n",
    "        bootstrap_idx = np.random.choice(len(X), size = train_samples)\n",
    "        bootstrapped.append(bootstrap_idx)\n",
    "        bootstrap_X = X[bootstrap_idx]\n",
    "        bootstrap_y = y[bootstrap_idx]\n",
    "        \n",
    "        tree.fit(bootstrap_X, bootstrap_y)\n",
    "        trees.append(tree)\n",
    "        tree_preds = np.array([tree.predict(X) for tree in trees])\n",
    "        \n",
    "        for pred, bootstrap in zip(tree_preds, bootstrapped):\n",
    "            pred[bootstrap] = 0  \n",
    "            \n",
    "        y_pred = 2 * (np.sum(tree_preds.T, axis=1) >= 0) - 1\n",
    "        error.append(1 - accuracy_score(y, y_pred))\n",
    "    \n",
    "    return trees, error\n",
    "\n",
    "#%time forest, forest_err_train = RandomForest(X_train, y_train, n_estimators, max_features, min_samples_leaf)"
   ]
  },
  {
   "cell_type": "markdown",
   "metadata": {},
   "source": [
    "#### Fit and score the model\n",
    "\n",
    "You should get results within approximately 5% of the reference implementation"
   ]
  },
  {
   "cell_type": "code",
   "execution_count": 83,
   "metadata": {},
   "outputs": [
    {
     "name": "stdout",
     "output_type": "stream",
     "text": [
      "CPU times: user 6.19 s, sys: 0 ns, total: 6.19 s\n",
      "Wall time: 6.19 s\n",
      "Train accuracy: 1.000\n",
      "Test accuracy: 0.858\n"
     ]
    }
   ],
   "source": [
    "%time clf.fit(X_train, y_train)\n",
    "\n",
    "print(f\"Train accuracy: {clf.score(X_train, y_train):.3f}\")\n",
    "print(f\"Test accuracy: {clf.score(X_test, y_test):.3f}\")"
   ]
  },
  {
   "cell_type": "markdown",
   "metadata": {},
   "source": [
    "## Question 2b (10p)\n",
    "Use your implementation of the Random Forest to redo the Figure 2.3b in the lecture notes. Some randomness is inevitable due to the sample bootstrap process, but overall deviations from the reference figure should be very small.\n",
    "\n",
    "**Tasks:**\n",
    "1. Plot the test error of a stump (i.e., a 2-leaf tree). Use the `DecisionTreeClassifier`.\n",
    "2. Plot the test error of a full tree. Use the `DecisionTreeClassifier` with it's default arguments.\n",
    "3. Plot the OOB training error. You should be able to get this from the `staged_oob_score` method.\n",
    "4. Plot the Test error. You should be able to get this from the `staged_predict` method."
   ]
  },
  {
   "cell_type": "code",
   "execution_count": 84,
   "metadata": {},
   "outputs": [
    {
     "name": "stdout",
     "output_type": "stream",
     "text": [
      "CPU times: user 6.75 s, sys: 16 ms, total: 6.76 s\n",
      "Wall time: 6.77 s\n",
      "CPU times: user 18.5 s, sys: 3.87 ms, total: 18.5 s\n",
      "Wall time: 18.6 s\n"
     ]
    }
   ],
   "source": [
    "# your code here\n",
    "%time forest, forest_err_train = RandomForest(X_train, y_train, n_estimators, max_features, min_samples_leaf)\n",
    "%time forest_err_test = testerror(forest, X_test, y_test)"
   ]
  },
  {
   "cell_type": "code",
   "execution_count": 85,
   "metadata": {
    "tags": []
   },
   "outputs": [
    {
     "data": {
      "image/png": "[encoded data removed]",
      "text/plain": [
       "<Figure size 640x480 with 1 Axes>"
      ]
     },
     "metadata": {},
     "output_type": "display_data"
    }
   ],
   "source": [
    "plt.grid()\n",
    "plt.xlabel(\"Number of Trees\")\n",
    "plt.ylabel(\"Error Rates\")\n",
    "plt.plot(forest_err_train)\n",
    "plt.plot(forest_err_test)\n",
    "plt.plot([stump_error] * n_estimators, \"--\", label='stump error')\n",
    "plt.plot([node_245_error] * n_estimators, \"-.\", label='245-node error')\n",
    "plt.legend([\"OOB Training Error\", \"Test Error\", \"Stump Error\",\"245-node Error\"], loc=1)\n",
    "plt.title(\"Random Forest\")\n",
    "plt.show()"
   ]
  },
  {
   "cell_type": "markdown",
   "metadata": {},
   "source": [
    "***\n",
    "# Question 3 (44p)\n",
    "In this problem you will implement the **Adaboost.M1 algorithm** and use it to redo Figure 3.1a and Figure 3.3a."
   ]
  },
  {
   "cell_type": "code",
   "execution_count": null,
   "metadata": {},
   "outputs": [],
   "source": [
    "n_estimators = 600"
   ]
  },
  {
   "cell_type": "markdown",
   "metadata": {},
   "source": [
    "#### Reference implementation"
   ]
  },
  {
   "cell_type": "code",
   "execution_count": null,
   "metadata": {},
   "outputs": [],
   "source": [
    "clf_sk_ada_m1 = AdaBoostClassifier(n_estimators=n_estimators, algorithm=\"SAMME\")\n",
    "%time clf_sk_ada_m1.fit(X_train, y_train)\n",
    "\n",
    "print(f\"Train accuracy: {clf_sk_ada_m1.score(X_train, y_train):.3f}\")\n",
    "print(f\"Test accuracy: {clf_sk_ada_m1.score(X_test, y_test):.3f}\")"
   ]
  },
  {
   "cell_type": "markdown",
   "metadata": {},
   "source": [
    "##  Question 3a (20p)\n",
    "\n",
    "Implement the missing functionality from `MyAdaBoostM1Classifier`. Break the task down into smaller steps:\n",
    "1. Implement the `fit` method. The boosting algorithm for classification is described in Algorithm 3.1 of lecture notes.\n",
    "2. Implement the `predict` method.\n",
    "3. Implement the `staged_predict` method. This function should return the prediction for each iteration (i.e., a prediction for $1, 2, 3, \\ldots, B$ estimators). You may either return a 2D array of shape (n_samples, n_estimators) or use the `yield` keyword to return a generator.\n",
    "4. Implement the `predict_proba` method. This function should return the probabilities for each sample belonging to that class. The algorithm for this is described in subsection 3.4.\n",
    "\n",
    "\n",
    "**Hint:** If you want to follow the scikit-learn development exactly (this is optional), use the `check_estimator` function to verify that your class implementation is done correctly."
   ]
  },
  {
   "cell_type": "code",
   "execution_count": 89,
   "metadata": {},
   "outputs": [],
   "source": [
    "class MyAdaBoostM1Classifier(ClassifierMixin, BaseEstimator):\n",
    "    \"\"\"Custom AdaBoostM1Classifier implementation.\"\"\"\n",
    "\n",
    "    def __init__(self, estimator=None, n_estimators=50, random_state=None):\n",
    "        \"\"\"Initialize the AdaBoostM1Classifier.\n",
    "\n",
    "        Keyword Arguments:\n",
    "            estimator -- base estimator used in the ensemble (default: {None})\n",
    "            n_estimators -- number of estimators used in the ensembe (default: {50})\n",
    "            random_state -- random state (default: {None})\n",
    "        \"\"\"\n",
    "        super().__init__()\n",
    "        self.n_estimators = n_estimators\n",
    "        self.random_state = random_state\n",
    "        self.estimator = estimator\n",
    "\n",
    "    def fit(self, X, y, verbose=False):\n",
    "        \"\"\"Fit the AdaBoostM1Classifier to the training data.\n",
    "\n",
    "        Arguments:\n",
    "            X -- Training data, should be array like of shape (n_samples, n_features)\n",
    "            y -- Target values, should be array like of shape (n_samples,)\n",
    "\n",
    "        Keyword Arguments:\n",
    "            verbose -- enable debugging information (default: {False})\n",
    "\n",
    "        Returns:\n",
    "            self -- fitted instance of the AdaBoostM1Classifier\n",
    "        \"\"\"\n",
    "        self.random_state_ = check_random_state(self.random_state)\n",
    "        X, y = check_X_y(X, y)\n",
    "        self.classes_ = unique_labels(y)\n",
    "        \n",
    "        self.n_features_in_ = X.shape[1]\n",
    "        self.estimators_ = []\n",
    "        self.estimator_weights_ = []\n",
    "        self.estimator_errors_ = []\n",
    "        \n",
    "        n_samples = X.shape[0]\n",
    "        sample_weight = np.full(n_samples, 1 / n_samples)\n",
    "        \n",
    "        for iboost in range(self.n_estimators):\n",
    "            # Fit a classifier with the specific weights\n",
    "            estimator = clone(self.estimator)\n",
    "            estimator.fit(X, y, sample_weight=sample_weight)\n",
    "            y_pred = estimator.predict(X)\n",
    "\n",
    "            # Calculate error and alpha (estimator weight)\n",
    "            incorrect = (y_pred != y)\n",
    "            estimator_error = np.mean(np.average(incorrect, weights=sample_weight, axis=0))\n",
    "            \n",
    "            # Boost alpha for the classifier\n",
    "            alpha = np.log((1 - estimator_error) / estimator_error) + np.log(len(self.classes_) - 1)\n",
    "\n",
    "            # Update weights\n",
    "            sample_weight *= np.exp(alpha * incorrect)\n",
    "            sample_weight /= np.sum(sample_weight)\n",
    "\n",
    "            # Save the current estimator\n",
    "            self.estimators_.append(estimator)\n",
    "            self.estimator_weights_.append(alpha)\n",
    "            self.estimator_errors_.append(estimator_error)\n",
    "\n",
    "        # your code here\n",
    "        # raise NotImplementedError(\"You should implement this!\")\n",
    "\n",
    "        return self\n",
    "\n",
    "    def predict(self, X):\n",
    "        \"\"\"Predict the target values for the given data.\n",
    "\n",
    "        Arguments:\n",
    "            X -- Data to predict, should be array like of shape (n_samples, n_features)\n",
    "\n",
    "        Returns:\n",
    "            array -- Predicted target values\n",
    "        \"\"\"\n",
    "        check_is_fitted(self)\n",
    "        X = check_array(X)\n",
    "        if X.shape[1] != self.n_features_in_:\n",
    "            raise ValueError(\n",
    "                f\"X should have {self.n_features_in_} features; got {X.shape[1]}\"\n",
    "            )\n",
    "        \n",
    "        # your code here\n",
    "        # raise NotImplementedError(\"You should implement this!\")\n",
    "        predictions = np.array([estimator.predict(X) for estimator in self.estimators_])\n",
    "        weighted_predictions = np.average(predictions, weights=self.estimator_weights_, axis=0)\n",
    "        y_pred = np.sign(weighted_predictions)\n",
    "\n",
    "        return y_pred\n",
    "\n",
    "\n",
    "    def predict_proba(self, X):\n",
    "        \"\"\"Predict the target probabilities for the given data.\n",
    "\n",
    "        Arguments:\n",
    "            X -- Data to predict, should be array like of shape (n_samples, n_features)\n",
    "\n",
    "        Returns:\n",
    "            array -- Predicted target probabilities\n",
    "        \"\"\"\n",
    "        check_is_fitted(self)\n",
    "        X = check_array(X)\n",
    "        if X.shape[1] != self.n_features_in_:\n",
    "            raise ValueError(\n",
    "                f\"X should have {self.n_features_in_} features; got {X.shape[1]}\"\n",
    "            )\n",
    "\n",
    "        # your code here\n",
    "        # raise NotImplementedError(\"You should implement this!\")\n",
    "        # Compute probabilities\n",
    "        proba = sum(estimator.predict(X) * w for estimator, w in zip(self.estimators_, self.estimator_weights_))\n",
    "        \n",
    "        # Transform to probability distribution\n",
    "        proba = np.exp(proba)\n",
    "        proba /= np.sum(proba, axis=1, keepdims=True)\n",
    "\n",
    "        return proba\n",
    "\n",
    "    def staged_predict(self, X):\n",
    "        \"\"\"Predict the target values for the given data in stages for each estimator.\n",
    "\n",
    "        Arguments:\n",
    "            X -- Data to predict, should be array like of shape (n_samples, n_features)\n",
    "\n",
    "        Returns:\n",
    "            array -- Predicted target values for each estimator\n",
    "        \"\"\"\n",
    "        check_is_fitted(self)\n",
    "        X = check_array(X)\n",
    "        if X.shape[1] != self.n_features_in_:\n",
    "            raise ValueError(\n",
    "                f\"X should have {self.n_features_in_} features; got {X.shape[1]}\"\n",
    "            )\n",
    "\n",
    "        # your code here\n",
    "        # raise NotImplementedError(\"You should implement this!\")\n",
    "        for i, estimator in enumerate(self.estimators_):\n",
    "            # Sum the predictions up to the i-th estimator\n",
    "            predictions = np.array([est.predict(X) for est in self.estimators_[:i + 1]])\n",
    "            weighted_predictions = np.average(predictions, weights=self.estimator_weights_[:i + 1], axis=0)\n",
    "            y_pred = np.sign(weighted_predictions)\n",
    "            yield y_pred\n",
    "\n",
    "    def _more_tags(self):\n",
    "        return {\"binary_only\": True}"
   ]
  },
  {
   "cell_type": "markdown",
   "metadata": {},
   "source": [
    "#### Optional: run the check estimator"
   ]
  },
  {
   "cell_type": "code",
   "execution_count": 90,
   "metadata": {},
   "outputs": [],
   "source": [
    "#clf = MyAdaBoostM1Classifier(n_estimators=10)\n",
    "#check_estimator(clf)"
   ]
  },
  {
   "cell_type": "markdown",
   "metadata": {},
   "source": [
    "#### Fit and score the model\n",
    "\n",
    "You should get results within approximately 5% of the reference implementation"
   ]
  },
  {
   "cell_type": "code",
   "execution_count": 91,
   "metadata": {},
   "outputs": [
    {
     "name": "stdout",
     "output_type": "stream",
     "text": [
      "CPU times: user 765 ms, sys: 14 µs, total: 765 ms\n",
      "Wall time: 764 ms\n",
      "Train accuracy: 0.913\n",
      "Test accuracy: 0.853\n"
     ]
    }
   ],
   "source": [
    "base_clf = DecisionTreeClassifier(max_depth=1)\n",
    "clf = MyAdaBoostM1Classifier(base_clf, n_estimators=n_estimators)\n",
    "%time clf.fit(X_train, y_train)\n",
    "\n",
    "print(f\"Train accuracy: {clf.score(X_train, y_train):.3f}\")\n",
    "print(f\"Test accuracy: {clf.score(X_test, y_test):.3f}\")"
   ]
  },
  {
   "cell_type": "markdown",
   "metadata": {},
   "source": [
    "## Question 3b (10p)\n",
    "Use the class `MyAdaBoostM1Classifier` to redo the Figure 3.1a in the lecture notes.\n",
    "\n",
    "**Tasks:**\n",
    "1. Plot the test error of a stump (i.e., a 2-leaf tree). Use the `DecisionTreeClassifier`.\n",
    "2. Plot the test error of a full tree. Use the `DecisionTreeClassifier` with it's default arguments.\n",
    "3. Plot the Training error. You should be able to get this from the `staged_predict` method.\n",
    "4. Plot the Test error. You should be able to get this from the `staged_predict` method."
   ]
  },
  {
   "cell_type": "code",
   "execution_count": 108,
   "metadata": {
    "tags": []
   },
   "outputs": [],
   "source": [
    "M = 600\n",
    "node = 2"
   ]
  },
  {
   "cell_type": "code",
   "execution_count": 111,
   "metadata": {
    "tags": []
   },
   "outputs": [
    {
     "data": {
      "image/png": "[encoded data removed]",
      "text/plain": [
       "<Figure size 640x480 with 1 Axes>"
      ]
     },
     "metadata": {},
     "output_type": "display_data"
    }
   ],
   "source": [
    "def AdaBoostM1(X, y, M, node):\n",
    "    G = []\n",
    "    w = np.array([1/y.shape[0]] * y.shape[0])\n",
    "    alphas = []\n",
    "    \n",
    "    for _ in range(M):\n",
    "        tree = DecisionTreeClassifier(max_leaf_nodes=node)\n",
    "        tree.fit(X, y, sample_weight = w)\n",
    "        \n",
    "        y_pred = tree.predict(X)\n",
    "        error_m = np.sum(np.where(y != y_pred, w, 0))/np.sum(w)\n",
    "        alpha_m = np.log((1 - error_m) / error_m)\n",
    "        w = np.where(y != y_pred, w * np.exp(alpha_m), w)\n",
    "        \n",
    "        alphas.append(alpha_m)\n",
    "        G.append(tree)\n",
    "    \n",
    "    return G, alphas\n",
    "\n",
    "def PredAdaBoostM1(G, alphas, X, y): \n",
    "    s = np.zeros(len(y))\n",
    "    label = []\n",
    "    error = []\n",
    "    \n",
    "    for stump, alpha in zip(G, alphas):\n",
    "        s += alpha * stump.predict(X)\n",
    "        y_pred = np.sign(s)\n",
    "        label.append(y_pred)\n",
    "        error.append(1 - accuracy_score(y, y_pred))\n",
    "    \n",
    "    return label, error\n",
    "\n",
    "G, alphas = AdaBoostM1(X_train, y_train, M, node)\n",
    "label_train, ada_train_error = PredAdaBoostM1(G, alphas, X_train, y_train)\n",
    "label_test, ada_test_error = PredAdaBoostM1(G, alphas, X_test, y_test)\n",
    "\n",
    "plt.grid()\n",
    "plt.plot(ada_train_error)\n",
    "plt.plot(ada_test_error)\n",
    "plt.xlabel(\"Boosting Iterations\")\n",
    "plt.ylabel(\"Error Rates\")\n",
    "plt.plot([stump_error] * M, \"--\")\n",
    "plt.plot([node_245_error] * M, \"-.\")\n",
    "plt.legend([\"Training Error\", \"Test Error\", \"Stump Error\",\"245-node Error\"], loc=1)\n",
    "plt.title(\"Adaboost.M1 with Stumps\")\n",
    "plt.show()"
   ]
  },
  {
   "cell_type": "markdown",
   "metadata": {},
   "source": [
    "## Question 3c (14p)\n",
    "Use the class `MyAdaBoostM1Classifier` to redo the Figure 3.3a in the lecture notes."
   ]
  },
  {
   "cell_type": "code",
   "execution_count": 112,
   "metadata": {},
   "outputs": [
    {
     "data": {
      "image/png": "[encoded data removed]",
      "text/plain": [
       "<Figure size 640x480 with 1 Axes>"
      ]
     },
     "metadata": {},
     "output_type": "display_data"
    }
   ],
   "source": [
    "# your code here\n",
    "\n",
    "def Prob(G, alphas, X):\n",
    "    sum_alphas = sum(alphas) \n",
    "    M = len(G)\n",
    "    N = X.shape[0]\n",
    "    sum_fx = np.zeros(N)\n",
    "    for i in range(M):\n",
    "        ypred = G[i].predict(X)\n",
    "        sum_fx += alphas[i] * ypred\n",
    "    fx = sum_fx/sum_alphas\n",
    "    prob = 1/(1 + np.exp(-fx))\n",
    "    return prob\n",
    "\n",
    "# Normalize\n",
    "kwargs = dict(alpha=0.7, bins=50,density=True,stacked=True)\n",
    "\n",
    "G, alphas = MyAdaBoostM1(X_train, y_train, M, 2)\n",
    "prob = Prob(G, alphas, X_test)\n",
    "probs1 = []\n",
    "probsminus1 = []\n",
    "for (index, label) in enumerate(y_test):\n",
    "    if label == 1:\n",
    "        probs1.append(prob[index])\n",
    "    else:\n",
    "        probsminus1.append(prob[index])\n",
    "\n",
    "plt.title(\"Density histograms of prediction probabilities\")\n",
    "\n",
    "plt.hist(probs1, alpha=0.5, bins=50,density=True,stacked=True, label = \"y_i = 1\", color=\"blue\")\n",
    "plt.hist(probsminus1, alpha=0.5, bins=50,density=True,stacked=True, label = \"y_i = -1\", color=\"green\")\n",
    "plt.ylim([0,85])\n",
    "plt.xlim([0.47, 0.60])\n",
    "plt.xlabel(\"Prediction probability Pr(Y=1|X=xi)\")\n",
    "plt.ylabel(\"Frequency\")\n",
    "plt.legend(loc=1, frameon=False)\n",
    "plt.grid()"
   ]
  },
  {
   "cell_type": "markdown",
   "metadata": {},
   "source": [
    "***\n",
    "# Question 4 (BONUS +10p)\n",
    "\n",
    "This problem is **optional** and will grant you bonus points. The goal is to run Adaboost.M1 with small neural networks as estimators. You do not need a GPU to complete this task, and total training time is less than a few minutes on a low-end laptop. The neural network must be implemented with PyTorch, as scikit-learn doens't provide sample weighting necessary for boosting."
   ]
  },
  {
   "cell_type": "markdown",
   "metadata": {},
   "source": [
    "### Additional Imports"
   ]
  },
  {
   "cell_type": "code",
   "execution_count": 114,
   "metadata": {},
   "outputs": [],
   "source": [
    "import torch\n",
    "from torch import nn\n",
    "import torch.nn as nn"
   ]
  },
  {
   "cell_type": "markdown",
   "metadata": {},
   "source": [
    "## Question 4a (3p)\n",
    "\n",
    "As the base estimator, use a Multilayer Perceptron (MLP). The model should consist of two linear layers with ReLU activation and a sigmoid output. Fill in the initialization and and `forward` methods. If Deep Learning is new to you, or you are unfamiliar with PyTorch, [this](https://pytorch.org/tutorials/beginner/basics/buildmodel_tutorial.html) guide should covers the basics on models. The model should look as follows:\n",
    "\n",
    "\n",
    "\n",
    "![MLP figure](figures/mlp.svg)"
   ]
  },
  {
   "cell_type": "code",
   "execution_count": 115,
   "metadata": {},
   "outputs": [],
   "source": [
    "class MLP(nn.Module):\n",
    "    \"\"\"Custom MLP implementation.\"\"\"\n",
    "\n",
    "    def __init__(self, input_dim, hidden_dim, output_dim, random_state=0):\n",
    "        \"\"\"Initialize the MLP.\n",
    "\n",
    "        Arguments:\n",
    "            input_dim -- input dimension\n",
    "            hidden_dim -- hidden dimension\n",
    "            output_dim -- output dimension\n",
    "\n",
    "        Keyword Arguments:\n",
    "            random_state -- random state (default: {0})\n",
    "        \"\"\"\n",
    "        super().__init__()\n",
    "        torch.manual_seed(random_state)\n",
    "\n",
    "        # your code here\n",
    "        # raise NotImplementedError(\"You should implement this!\")\n",
    "        # Define the first linear layer\n",
    "        self.linear1 = nn.Linear(input_dim, hidden_dim)\n",
    "        \n",
    "        # Define the second linear layer\n",
    "        self.linear2 = nn.Linear(hidden_dim, output_dim)\n",
    "\n",
    "        # Define ReLU activation for hidden layer\n",
    "        self.relu = nn.ReLU()\n",
    "\n",
    "        # Define Sigmoid activation for output layer\n",
    "        self.sigmoid = nn.Sigmoid()\n",
    "\n",
    "    def forward(self, x):\n",
    "        \"\"\"Forward pass of the MLP.\n",
    "\n",
    "        Arguments:\n",
    "            x -- input data\n",
    "\n",
    "        Returns:\n",
    "            tensor -- output data\n",
    "        \"\"\"\n",
    "        # your code here\n",
    "        # raise NotImplementedError(\"You should implement this!\")\n",
    "        # Pass data through linear1\n",
    "        x = self.linear1(x)\n",
    "        \n",
    "        # Apply ReLU activation function\n",
    "        x = self.relu(x)\n",
    "        \n",
    "        # Pass data through linear2\n",
    "        x = self.linear2(x)\n",
    "        \n",
    "        # Apply Sigmoid activation function\n",
    "        output = self.sigmoid(x)\n",
    "        \n",
    "        return output"
   ]
  },
  {
   "cell_type": "markdown",
   "metadata": {},
   "source": [
    "#### Check the model implementation"
   ]
  },
  {
   "cell_type": "code",
   "execution_count": 116,
   "metadata": {},
   "outputs": [],
   "source": [
    "base_clf = MLP(input_dim=features, hidden_dim=32, output_dim=1)\n",
    "\n",
    "# check that the model returns the correct output shape\n",
    "X = torch.rand(32, features)\n",
    "y = base_clf(X)\n",
    "assert y.shape == (32, 1)\n",
    "\n",
    "# check that the model has the correct number of parameters\n",
    "# -> (2 weight matrices and 2 bias vectors)\n",
    "assert len(list(base_clf.parameters())) == 4"
   ]
  },
  {
   "cell_type": "markdown",
   "metadata": {},
   "source": [
    "## Question 4b (4p)\n",
    "Implement the `MLPClassifier` as a scikit-learn estimator. Initialize and train the MLP in the `fit` method. An overview of the training loop is provided [here](https://pytorch.org/tutorials/beginner/basics/optimization_tutorial.html). Use the provided Adam optimizer and Binary Cross-Entropy (BCE) loss functions.\n",
    "\n",
    "The key part for Adaboost.M1 is the per sample weighting. To be able to do this, our fit method must accept a `sample_weight` argument. During training, multiply the (unreduced) loss with the weights before averaging. The process is illustarted in the following figure:\n",
    "\n",
    "![training with weights](figures/weighted_training.svg)"
   ]
  },
  {
   "cell_type": "code",
   "execution_count": 164,
   "metadata": {},
   "outputs": [],
   "source": [
    "import numpy as np\n",
    "import torch\n",
    "import torch.nn as nn\n",
    "from torch.utils.data import DataLoader, TensorDataset\n",
    "from sklearn.base import BaseEstimator, ClassifierMixin\n",
    "from sklearn.utils.validation import check_X_y, check_array, check_is_fitted\n",
    "from sklearn.utils.validation import _check_sample_weight\n",
    "\n",
    "class MLPClassifier(ClassifierMixin, BaseEstimator):\n",
    "    \"\"\"Custom MLPClassifier implementation.\"\"\"\n",
    "\n",
    "    def __init__(self, random_state=None, hidden_dim=32, learning_rate=1e-3, n_epoch=10, batch_size=64):\n",
    "        \"\"\"Initialize the MLPClassifier.\"\"\"\n",
    "        self.random_state = random_state\n",
    "        self.hidden_dim = hidden_dim\n",
    "        self.learning_rate = learning_rate\n",
    "        self.n_epoch = n_epoch\n",
    "        self.batch_size = batch_size\n",
    "\n",
    "    def fit(self, X, y, sample_weight=None):\n",
    "        \"\"\"Fit the MLPClassifier to the training data.\"\"\"\n",
    "        if self.random_state is not None:\n",
    "            torch.manual_seed(self.random_state)\n",
    "\n",
    "        X, y = check_X_y(X, y, ensure_min_samples=2, dtype=None)\n",
    "        y = (y > 0).astype(int)  # Ensure y is binary\n",
    "\n",
    "        self.classes_ = unique_labels(y)\n",
    "        self.n_features_in_ = X.shape[1]\n",
    "\n",
    "        if sample_weight is None:\n",
    "            sample_weight = np.ones(X.shape[0])\n",
    "\n",
    "        sample_weight = _check_sample_weight(sample_weight, X, dtype=np.float64)\n",
    "\n",
    "        self.model_ = MLP(input_dim=self.n_features_in_, hidden_dim=self.hidden_dim, output_dim=1)\n",
    "\n",
    "        criterion = nn.BCEWithLogitsLoss(reduction='none')\n",
    "        optimizer = torch.optim.Adam(self.model_.parameters(), lr=self.learning_rate)\n",
    "\n",
    "        X_tensor = torch.tensor(X, dtype=torch.float32)\n",
    "        y_tensor = torch.tensor(y, dtype=torch.float32).view(-1, 1)\n",
    "        sample_weight_tensor = torch.tensor(sample_weight, dtype=torch.float32).view(-1, 1)\n",
    "\n",
    "        dataset = TensorDataset(X_tensor, y_tensor, sample_weight_tensor)\n",
    "        dataloader = DataLoader(dataset, batch_size=self.batch_size, shuffle=True)\n",
    "\n",
    "        for epoch in range(self.n_epoch):\n",
    "            for X_batch, y_batch, sw_batch in dataloader:\n",
    "                optimizer.zero_grad()\n",
    "                outputs = self.model_(X_batch)\n",
    "                loss = criterion(outputs, y_batch)\n",
    "                loss = (loss * sw_batch).mean()\n",
    "                loss.backward()\n",
    "                optimizer.step()\n",
    "\n",
    "        return self\n",
    "\n",
    "    def predict(self, X):\n",
    "        \"\"\"Predict the target values for the given data.\"\"\"\n",
    "        check_is_fitted(self)\n",
    "        X = check_array(X)\n",
    "        if X.shape[1] != self.n_features_in_:\n",
    "            raise ValueError(f\"X should have {self.n_features_in_} features; got {X.shape[1]}\")\n",
    "\n",
    "        X_tensor = torch.tensor(X, dtype=torch.float32)\n",
    "        self.model_.eval()\n",
    "        with torch.no_grad():\n",
    "            outputs = self.model_(X_tensor)\n",
    "        predictions = (torch.sigmoid(outputs) >= 0.5).int().numpy().flatten()\n",
    "        return predictions\n",
    "\n",
    "    def _more_tags(self):\n",
    "        return {\"binary_only\": True, \"poor_score\": True}\n"
   ]
  },
  {
   "cell_type": "markdown",
   "metadata": {},
   "source": [
    "#### Optional: run the check estimator"
   ]
  },
  {
   "cell_type": "code",
   "execution_count": 165,
   "metadata": {},
   "outputs": [],
   "source": [
    "#base_clf = MLPClassifier(hidden_dim=32, n_epoch=100)\n",
    "#check_estimator(base_clf)"
   ]
  },
  {
   "cell_type": "markdown",
   "metadata": {},
   "source": [
    "#### Check that the MLP classifier learns something\n",
    "\n",
    "You should have around 60% Train accuracy after 10 epochs"
   ]
  },
  {
   "cell_type": "code",
   "execution_count": 166,
   "metadata": {},
   "outputs": [
    {
     "name": "stdout",
     "output_type": "stream",
     "text": [
      "CPU times: user 1.43 s, sys: 48 ms, total: 1.48 s\n",
      "Wall time: 372 ms\n",
      "Train accuracy: 0.140\n",
      "Test accuracy: 0.128\n"
     ]
    }
   ],
   "source": [
    "base_clf = MLPClassifier(hidden_dim=32, n_epoch=10)\n",
    "%time base_clf.fit(X_train, y_train)\n",
    "\n",
    "print(f\"Train accuracy: {base_clf.score(X_train, y_train):.3f}\")\n",
    "print(f\"Test accuracy: {base_clf.score(X_test, y_test):.3f}\")"
   ]
  },
  {
   "cell_type": "markdown",
   "metadata": {},
   "source": [
    "## Question 4c (2p)\n",
    "\n",
    "Train the Adaboost.M1 ensemble with the `MLPClassifier` as the base estimator. Use the default parameters for the MLP. Compute the train and test errors. You should reach a test accuracy of nearly 90 %."
   ]
  },
  {
   "cell_type": "code",
   "execution_count": 170,
   "metadata": {},
   "outputs": [
    {
     "name": "stderr",
     "output_type": "stream",
     "text": [
      "/opt/software/lib/python3.10/site-packages/sklearn/ensemble/_base.py:156: FutureWarning: `base_estimator` was renamed to `estimator` in version 1.2 and will be removed in 1.4.\n",
      "  warnings.warn(\n"
     ]
    },
    {
     "ename": "ValueError",
     "evalue": "BaseClassifier in AdaBoostClassifier ensemble is worse than random, ensemble can not be fit.",
     "output_type": "error",
     "traceback": [
      "\u001b[0;31m---------------------------------------------------------------------------\u001b[0m",
      "\u001b[0;31mValueError\u001b[0m                                Traceback (most recent call last)",
      "Cell \u001b[0;32mIn[170], line 15\u001b[0m\n\u001b[1;32m      9\u001b[0m pipeline \u001b[38;5;241m=\u001b[39m Pipeline([\n\u001b[1;32m     10\u001b[0m     (\u001b[38;5;124m'\u001b[39m\u001b[38;5;124mscaler\u001b[39m\u001b[38;5;124m'\u001b[39m, StandardScaler()),  \u001b[38;5;66;03m# 数据标准化\u001b[39;00m\n\u001b[1;32m     11\u001b[0m     (\u001b[38;5;124m'\u001b[39m\u001b[38;5;124mclassifier\u001b[39m\u001b[38;5;124m'\u001b[39m, AdaBoostClassifier(base_estimator\u001b[38;5;241m=\u001b[39mmlp_base, algorithm\u001b[38;5;241m=\u001b[39m\u001b[38;5;124m'\u001b[39m\u001b[38;5;124mSAMME\u001b[39m\u001b[38;5;124m'\u001b[39m, n_estimators\u001b[38;5;241m=\u001b[39m\u001b[38;5;241m50\u001b[39m))\n\u001b[1;32m     12\u001b[0m ])\n\u001b[1;32m     14\u001b[0m \u001b[38;5;66;03m# 拟合模型\u001b[39;00m\n\u001b[0;32m---> 15\u001b[0m \u001b[43mpipeline\u001b[49m\u001b[38;5;241;43m.\u001b[39;49m\u001b[43mfit\u001b[49m\u001b[43m(\u001b[49m\u001b[43mX_train\u001b[49m\u001b[43m,\u001b[49m\u001b[43m \u001b[49m\u001b[43my_train\u001b[49m\u001b[43m)\u001b[49m\n\u001b[1;32m     17\u001b[0m \u001b[38;5;66;03m# 计算训练和测试准确率\u001b[39;00m\n\u001b[1;32m     18\u001b[0m train_accuracy \u001b[38;5;241m=\u001b[39m pipeline\u001b[38;5;241m.\u001b[39mscore(X_train, y_train)\n",
      "File \u001b[0;32m/opt/software/lib/python3.10/site-packages/sklearn/base.py:1152\u001b[0m, in \u001b[0;36m_fit_context.<locals>.decorator.<locals>.wrapper\u001b[0;34m(estimator, *args, **kwargs)\u001b[0m\n\u001b[1;32m   1145\u001b[0m     estimator\u001b[38;5;241m.\u001b[39m_validate_params()\n\u001b[1;32m   1147\u001b[0m \u001b[38;5;28;01mwith\u001b[39;00m config_context(\n\u001b[1;32m   1148\u001b[0m     skip_parameter_validation\u001b[38;5;241m=\u001b[39m(\n\u001b[1;32m   1149\u001b[0m         prefer_skip_nested_validation \u001b[38;5;129;01mor\u001b[39;00m global_skip_validation\n\u001b[1;32m   1150\u001b[0m     )\n\u001b[1;32m   1151\u001b[0m ):\n\u001b[0;32m-> 1152\u001b[0m     \u001b[38;5;28;01mreturn\u001b[39;00m \u001b[43mfit_method\u001b[49m\u001b[43m(\u001b[49m\u001b[43mestimator\u001b[49m\u001b[43m,\u001b[49m\u001b[43m \u001b[49m\u001b[38;5;241;43m*\u001b[39;49m\u001b[43margs\u001b[49m\u001b[43m,\u001b[49m\u001b[43m \u001b[49m\u001b[38;5;241;43m*\u001b[39;49m\u001b[38;5;241;43m*\u001b[39;49m\u001b[43mkwargs\u001b[49m\u001b[43m)\u001b[49m\n",
      "File \u001b[0;32m/opt/software/lib/python3.10/site-packages/sklearn/pipeline.py:427\u001b[0m, in \u001b[0;36mPipeline.fit\u001b[0;34m(self, X, y, **fit_params)\u001b[0m\n\u001b[1;32m    425\u001b[0m     \u001b[38;5;28;01mif\u001b[39;00m \u001b[38;5;28mself\u001b[39m\u001b[38;5;241m.\u001b[39m_final_estimator \u001b[38;5;241m!=\u001b[39m \u001b[38;5;124m\"\u001b[39m\u001b[38;5;124mpassthrough\u001b[39m\u001b[38;5;124m\"\u001b[39m:\n\u001b[1;32m    426\u001b[0m         fit_params_last_step \u001b[38;5;241m=\u001b[39m fit_params_steps[\u001b[38;5;28mself\u001b[39m\u001b[38;5;241m.\u001b[39msteps[\u001b[38;5;241m-\u001b[39m\u001b[38;5;241m1\u001b[39m][\u001b[38;5;241m0\u001b[39m]]\n\u001b[0;32m--> 427\u001b[0m         \u001b[38;5;28;43mself\u001b[39;49m\u001b[38;5;241;43m.\u001b[39;49m\u001b[43m_final_estimator\u001b[49m\u001b[38;5;241;43m.\u001b[39;49m\u001b[43mfit\u001b[49m\u001b[43m(\u001b[49m\u001b[43mXt\u001b[49m\u001b[43m,\u001b[49m\u001b[43m \u001b[49m\u001b[43my\u001b[49m\u001b[43m,\u001b[49m\u001b[43m \u001b[49m\u001b[38;5;241;43m*\u001b[39;49m\u001b[38;5;241;43m*\u001b[39;49m\u001b[43mfit_params_last_step\u001b[49m\u001b[43m)\u001b[49m\n\u001b[1;32m    429\u001b[0m \u001b[38;5;28;01mreturn\u001b[39;00m \u001b[38;5;28mself\u001b[39m\n",
      "File \u001b[0;32m/opt/software/lib/python3.10/site-packages/sklearn/base.py:1152\u001b[0m, in \u001b[0;36m_fit_context.<locals>.decorator.<locals>.wrapper\u001b[0;34m(estimator, *args, **kwargs)\u001b[0m\n\u001b[1;32m   1145\u001b[0m     estimator\u001b[38;5;241m.\u001b[39m_validate_params()\n\u001b[1;32m   1147\u001b[0m \u001b[38;5;28;01mwith\u001b[39;00m config_context(\n\u001b[1;32m   1148\u001b[0m     skip_parameter_validation\u001b[38;5;241m=\u001b[39m(\n\u001b[1;32m   1149\u001b[0m         prefer_skip_nested_validation \u001b[38;5;129;01mor\u001b[39;00m global_skip_validation\n\u001b[1;32m   1150\u001b[0m     )\n\u001b[1;32m   1151\u001b[0m ):\n\u001b[0;32m-> 1152\u001b[0m     \u001b[38;5;28;01mreturn\u001b[39;00m \u001b[43mfit_method\u001b[49m\u001b[43m(\u001b[49m\u001b[43mestimator\u001b[49m\u001b[43m,\u001b[49m\u001b[43m \u001b[49m\u001b[38;5;241;43m*\u001b[39;49m\u001b[43margs\u001b[49m\u001b[43m,\u001b[49m\u001b[43m \u001b[49m\u001b[38;5;241;43m*\u001b[39;49m\u001b[38;5;241;43m*\u001b[39;49m\u001b[43mkwargs\u001b[49m\u001b[43m)\u001b[49m\n",
      "File \u001b[0;32m/opt/software/lib/python3.10/site-packages/sklearn/ensemble/_weight_boosting.py:171\u001b[0m, in \u001b[0;36mBaseWeightBoosting.fit\u001b[0;34m(self, X, y, sample_weight)\u001b[0m\n\u001b[1;32m    168\u001b[0m sample_weight[zero_weight_mask] \u001b[38;5;241m=\u001b[39m \u001b[38;5;241m0.0\u001b[39m\n\u001b[1;32m    170\u001b[0m \u001b[38;5;66;03m# Boosting step\u001b[39;00m\n\u001b[0;32m--> 171\u001b[0m sample_weight, estimator_weight, estimator_error \u001b[38;5;241m=\u001b[39m \u001b[38;5;28;43mself\u001b[39;49m\u001b[38;5;241;43m.\u001b[39;49m\u001b[43m_boost\u001b[49m\u001b[43m(\u001b[49m\n\u001b[1;32m    172\u001b[0m \u001b[43m    \u001b[49m\u001b[43miboost\u001b[49m\u001b[43m,\u001b[49m\u001b[43m \u001b[49m\u001b[43mX\u001b[49m\u001b[43m,\u001b[49m\u001b[43m \u001b[49m\u001b[43my\u001b[49m\u001b[43m,\u001b[49m\u001b[43m \u001b[49m\u001b[43msample_weight\u001b[49m\u001b[43m,\u001b[49m\u001b[43m \u001b[49m\u001b[43mrandom_state\u001b[49m\n\u001b[1;32m    173\u001b[0m \u001b[43m\u001b[49m\u001b[43m)\u001b[49m\n\u001b[1;32m    175\u001b[0m \u001b[38;5;66;03m# Early termination\u001b[39;00m\n\u001b[1;32m    176\u001b[0m \u001b[38;5;28;01mif\u001b[39;00m sample_weight \u001b[38;5;129;01mis\u001b[39;00m \u001b[38;5;28;01mNone\u001b[39;00m:\n",
      "File \u001b[0;32m/opt/software/lib/python3.10/site-packages/sklearn/ensemble/_weight_boosting.py:582\u001b[0m, in \u001b[0;36mAdaBoostClassifier._boost\u001b[0;34m(self, iboost, X, y, sample_weight, random_state)\u001b[0m\n\u001b[1;32m    579\u001b[0m     \u001b[38;5;28;01mreturn\u001b[39;00m \u001b[38;5;28mself\u001b[39m\u001b[38;5;241m.\u001b[39m_boost_real(iboost, X, y, sample_weight, random_state)\n\u001b[1;32m    581\u001b[0m \u001b[38;5;28;01melse\u001b[39;00m:  \u001b[38;5;66;03m# elif self.algorithm == \"SAMME\":\u001b[39;00m\n\u001b[0;32m--> 582\u001b[0m     \u001b[38;5;28;01mreturn\u001b[39;00m \u001b[38;5;28;43mself\u001b[39;49m\u001b[38;5;241;43m.\u001b[39;49m\u001b[43m_boost_discrete\u001b[49m\u001b[43m(\u001b[49m\u001b[43miboost\u001b[49m\u001b[43m,\u001b[49m\u001b[43m \u001b[49m\u001b[43mX\u001b[49m\u001b[43m,\u001b[49m\u001b[43m \u001b[49m\u001b[43my\u001b[49m\u001b[43m,\u001b[49m\u001b[43m \u001b[49m\u001b[43msample_weight\u001b[49m\u001b[43m,\u001b[49m\u001b[43m \u001b[49m\u001b[43mrandom_state\u001b[49m\u001b[43m)\u001b[49m\n",
      "File \u001b[0;32m/opt/software/lib/python3.10/site-packages/sklearn/ensemble/_weight_boosting.py:671\u001b[0m, in \u001b[0;36mAdaBoostClassifier._boost_discrete\u001b[0;34m(self, iboost, X, y, sample_weight, random_state)\u001b[0m\n\u001b[1;32m    669\u001b[0m     \u001b[38;5;28mself\u001b[39m\u001b[38;5;241m.\u001b[39mestimators_\u001b[38;5;241m.\u001b[39mpop(\u001b[38;5;241m-\u001b[39m\u001b[38;5;241m1\u001b[39m)\n\u001b[1;32m    670\u001b[0m     \u001b[38;5;28;01mif\u001b[39;00m \u001b[38;5;28mlen\u001b[39m(\u001b[38;5;28mself\u001b[39m\u001b[38;5;241m.\u001b[39mestimators_) \u001b[38;5;241m==\u001b[39m \u001b[38;5;241m0\u001b[39m:\n\u001b[0;32m--> 671\u001b[0m         \u001b[38;5;28;01mraise\u001b[39;00m \u001b[38;5;167;01mValueError\u001b[39;00m(\n\u001b[1;32m    672\u001b[0m             \u001b[38;5;124m\"\u001b[39m\u001b[38;5;124mBaseClassifier in AdaBoostClassifier \u001b[39m\u001b[38;5;124m\"\u001b[39m\n\u001b[1;32m    673\u001b[0m             \u001b[38;5;124m\"\u001b[39m\u001b[38;5;124mensemble is worse than random, ensemble \u001b[39m\u001b[38;5;124m\"\u001b[39m\n\u001b[1;32m    674\u001b[0m             \u001b[38;5;124m\"\u001b[39m\u001b[38;5;124mcan not be fit.\u001b[39m\u001b[38;5;124m\"\u001b[39m\n\u001b[1;32m    675\u001b[0m         )\n\u001b[1;32m    676\u001b[0m     \u001b[38;5;28;01mreturn\u001b[39;00m \u001b[38;5;28;01mNone\u001b[39;00m, \u001b[38;5;28;01mNone\u001b[39;00m, \u001b[38;5;28;01mNone\u001b[39;00m\n\u001b[1;32m    678\u001b[0m \u001b[38;5;66;03m# Boost weight using multi-class AdaBoost SAMME alg\u001b[39;00m\n",
      "\u001b[0;31mValueError\u001b[0m: BaseClassifier in AdaBoostClassifier ensemble is worse than random, ensemble can not be fit."
     ]
    }
   ],
   "source": [
    "from sklearn.ensemble import AdaBoostClassifier\n",
    "from sklearn.preprocessing import StandardScaler\n",
    "from sklearn.pipeline import Pipeline\n",
    "\n",
    "# 定义一个具有更多训练周期的 MLPClassifier\n",
    "mlp_base = MLPClassifier(n_epoch=50)  # 增加迭代次数\n",
    "\n",
    "# 使用管道来确保数据标准化\n",
    "pipeline = Pipeline([\n",
    "    ('scaler', StandardScaler()),  # 数据标准化\n",
    "    ('classifier', AdaBoostClassifier(base_estimator=mlp_base, algorithm='SAMME', n_estimators=50))\n",
    "])\n",
    "\n",
    "# 拟合模型\n",
    "pipeline.fit(X_train, y_train)\n",
    "\n",
    "# 计算训练和测试准确率\n",
    "train_accuracy = pipeline.score(X_train, y_train)\n",
    "test_accuracy = pipeline.score(X_test, y_test)\n",
    "\n",
    "print(f\"Train accuracy: {train_accuracy:.3f}\")\n",
    "print(f\"Test accuracy: {test_accuracy:.3f}\")\n"
   ]
  },
  {
   "cell_type": "markdown",
   "metadata": {},
   "source": [
    "## Question 4d (1p)\n",
    "\n",
    "Plot the convergence plot and probability histograms for the MLP based Adaboost classifier (i.e. create the figures from Q3b and Q3c for the new classifier)."
   ]
  },
  {
   "cell_type": "code",
   "execution_count": 168,
   "metadata": {},
   "outputs": [
    {
     "data": {
      "image/png": "[encoded data removed]",
      "text/plain": [
       "<Figure size 1000x600 with 1 Axes>"
      ]
     },
     "metadata": {},
     "output_type": "display_data"
    }
   ],
   "source": [
    "# your code here (error vs. iteration plot)\n",
    "import matplotlib.pyplot as plt\n",
    "\n",
    "# Extracting the errors from the AdaBoost classifier\n",
    "ada_errors = ada_boost.estimator_errors_\n",
    "\n",
    "# Plotting the convergence plot\n",
    "plt.figure(figsize=(10, 6))\n",
    "plt.plot(range(1, len(ada_errors) + 1), ada_errors, marker='o')\n",
    "plt.xlabel('Number of Iterations')\n",
    "plt.ylabel('Error')\n",
    "plt.title('Error vs. Iterations for the MLP-based AdaBoost Classifier')\n",
    "plt.show()\n"
   ]
  },
  {
   "cell_type": "code",
   "execution_count": 169,
   "metadata": {},
   "outputs": [
    {
     "name": "stderr",
     "output_type": "stream",
     "text": [
      "/opt/software/lib/python3.10/site-packages/sklearn/ensemble/_weight_boosting.py:791: RuntimeWarning: invalid value encountered in double_scalars\n",
      "  pred /= self.estimator_weights_.sum()\n"
     ]
    },
    {
     "ename": "IndexError",
     "evalue": "invalid index to scalar variable.",
     "output_type": "error",
     "traceback": [
      "\u001b[0;31m---------------------------------------------------------------------------\u001b[0m",
      "\u001b[0;31mIndexError\u001b[0m                                Traceback (most recent call last)",
      "Cell \u001b[0;32mIn[169], line 3\u001b[0m\n\u001b[1;32m      1\u001b[0m \u001b[38;5;66;03m# your code here (probability histogram)\u001b[39;00m\n\u001b[1;32m      2\u001b[0m \u001b[38;5;66;03m# Obtain the predicted probabilities\u001b[39;00m\n\u001b[0;32m----> 3\u001b[0m y_test_prob \u001b[38;5;241m=\u001b[39m \u001b[43mada_boost\u001b[49m\u001b[38;5;241;43m.\u001b[39;49m\u001b[43mpredict_proba\u001b[49m\u001b[43m(\u001b[49m\u001b[43mX_test\u001b[49m\u001b[43m)\u001b[49m[:, \u001b[38;5;241m1\u001b[39m]\n\u001b[1;32m      5\u001b[0m \u001b[38;5;66;03m# Plot the probability histogram\u001b[39;00m\n\u001b[1;32m      6\u001b[0m plt\u001b[38;5;241m.\u001b[39mfigure(figsize\u001b[38;5;241m=\u001b[39m(\u001b[38;5;241m10\u001b[39m, \u001b[38;5;241m6\u001b[39m))\n",
      "File \u001b[0;32m/opt/software/lib/python3.10/site-packages/sklearn/ensemble/_weight_boosting.py:896\u001b[0m, in \u001b[0;36mAdaBoostClassifier.predict_proba\u001b[0;34m(self, X)\u001b[0m\n\u001b[1;32m    893\u001b[0m \u001b[38;5;28;01mif\u001b[39;00m n_classes \u001b[38;5;241m==\u001b[39m \u001b[38;5;241m1\u001b[39m:\n\u001b[1;32m    894\u001b[0m     \u001b[38;5;28;01mreturn\u001b[39;00m np\u001b[38;5;241m.\u001b[39mones((_num_samples(X), \u001b[38;5;241m1\u001b[39m))\n\u001b[0;32m--> 896\u001b[0m decision \u001b[38;5;241m=\u001b[39m \u001b[38;5;28;43mself\u001b[39;49m\u001b[38;5;241;43m.\u001b[39;49m\u001b[43mdecision_function\u001b[49m\u001b[43m(\u001b[49m\u001b[43mX\u001b[49m\u001b[43m)\u001b[49m\n\u001b[1;32m    897\u001b[0m \u001b[38;5;28;01mreturn\u001b[39;00m \u001b[38;5;28mself\u001b[39m\u001b[38;5;241m.\u001b[39m_compute_proba_from_decision(decision, n_classes)\n",
      "File \u001b[0;32m/opt/software/lib/python3.10/site-packages/sklearn/ensemble/_weight_boosting.py:793\u001b[0m, in \u001b[0;36mAdaBoostClassifier.decision_function\u001b[0;34m(self, X)\u001b[0m\n\u001b[1;32m    791\u001b[0m pred \u001b[38;5;241m/\u001b[39m\u001b[38;5;241m=\u001b[39m \u001b[38;5;28mself\u001b[39m\u001b[38;5;241m.\u001b[39mestimator_weights_\u001b[38;5;241m.\u001b[39msum()\n\u001b[1;32m    792\u001b[0m \u001b[38;5;28;01mif\u001b[39;00m n_classes \u001b[38;5;241m==\u001b[39m \u001b[38;5;241m2\u001b[39m:\n\u001b[0;32m--> 793\u001b[0m     pred[:, \u001b[38;5;241m0\u001b[39m] \u001b[38;5;241m*\u001b[39m\u001b[38;5;241m=\u001b[39m \u001b[38;5;241m-\u001b[39m\u001b[38;5;241m1\u001b[39m\n\u001b[1;32m    794\u001b[0m     \u001b[38;5;28;01mreturn\u001b[39;00m pred\u001b[38;5;241m.\u001b[39msum(axis\u001b[38;5;241m=\u001b[39m\u001b[38;5;241m1\u001b[39m)\n\u001b[1;32m    795\u001b[0m \u001b[38;5;28;01mreturn\u001b[39;00m pred\n",
      "\u001b[0;31mIndexError\u001b[0m: invalid index to scalar variable."
     ]
    }
   ],
   "source": [
    "# your code here (probability histogram)\n",
    "# Obtain the predicted probabilities\n",
    "y_test_prob = ada_boost.predict_proba(X_test)[:, 1]\n",
    "\n",
    "# Plot the probability histogram\n",
    "plt.figure(figsize=(10, 6))\n",
    "plt.hist(y_test_prob, bins=10, alpha=0.7)\n",
    "plt.title('Probability Histogram for the MLP-based AdaBoost Classifier')\n",
    "plt.xlabel('Predicted Probability')\n",
    "plt.ylabel('Frequency')\n",
    "plt.show()\n"
   ]
  },
  {
   "cell_type": "code",
   "execution_count": null,
   "metadata": {},
   "outputs": [],
   "source": []
  }
 ],
 "metadata": {
  "kernelspec": {
   "display_name": "Python 3",
   "language": "python",
   "name": "python3"
  },
  "language_info": {
   "codemirror_mode": {
    "name": "ipython",
    "version": 3
   },
   "file_extension": ".py",
   "mimetype": "text/x-python",
   "name": "python",
   "nbconvert_exporter": "python",
   "pygments_lexer": "ipython3",
   "version": "3.10.12"
  }
 },
 "nbformat": 4,
 "nbformat_minor": 4
}
